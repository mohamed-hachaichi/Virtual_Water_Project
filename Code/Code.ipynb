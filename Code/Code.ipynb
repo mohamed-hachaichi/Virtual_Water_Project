{
 "cells": [
  {
   "cell_type": "markdown",
   "id": "0341dcef",
   "metadata": {},
   "source": [
    "## Set the computations "
   ]
  },
  {
   "cell_type": "code",
   "execution_count": 1,
   "id": "e0d64294-dfd4-4fc9-aedb-f97403713822",
   "metadata": {},
   "outputs": [],
   "source": [
    "# Import modules \n",
    "import pandas as pd \n",
    "import numpy as np \n",
    "import matplotlib.pyplot as plt \n",
    "import seaborn as sns\n",
    "from plotnine import *\n",
    "%matplotlib inline "
   ]
  },
  {
   "cell_type": "code",
   "execution_count": 2,
   "id": "94b49e30-89d8-456e-8e37-6401471a0786",
   "metadata": {},
   "outputs": [],
   "source": [
    "# Set visuales \n",
    "coloors = ['#739354', '#875590', '#7dd3ec','#f5c9d0' , '#7dd3ec']"
   ]
  },
  {
   "cell_type": "code",
   "execution_count": 3,
   "id": "ef18416a-d167-4d8b-a2f9-b2b36a0a5d5c",
   "metadata": {},
   "outputs": [
    {
     "data": {
      "text/html": [
       "<div>\n",
       "<style scoped>\n",
       "    .dataframe tbody tr th:only-of-type {\n",
       "        vertical-align: middle;\n",
       "    }\n",
       "\n",
       "    .dataframe tbody tr th {\n",
       "        vertical-align: top;\n",
       "    }\n",
       "\n",
       "    .dataframe thead th {\n",
       "        text-align: right;\n",
       "    }\n",
       "</style>\n",
       "<table border=\"1\" class=\"dataframe\">\n",
       "  <thead>\n",
       "    <tr style=\"text-align: right;\">\n",
       "      <th></th>\n",
       "      <th>Sector</th>\n",
       "      <th>Industry_category</th>\n",
       "    </tr>\n",
       "  </thead>\n",
       "  <tbody>\n",
       "    <tr>\n",
       "      <th>0</th>\n",
       "      <td>Food</td>\n",
       "      <td>Primary industry</td>\n",
       "    </tr>\n",
       "    <tr>\n",
       "      <th>1</th>\n",
       "      <td>Food</td>\n",
       "      <td>Primary industry</td>\n",
       "    </tr>\n",
       "    <tr>\n",
       "      <th>2</th>\n",
       "      <td>Goods</td>\n",
       "      <td>Primary industry</td>\n",
       "    </tr>\n",
       "  </tbody>\n",
       "</table>\n",
       "</div>"
      ],
      "text/plain": [
       "  Sector Industry_category\n",
       "0   Food  Primary industry\n",
       "1   Food  Primary industry\n",
       "2  Goods  Primary industry"
      ]
     },
     "execution_count": 3,
     "metadata": {},
     "output_type": "execute_result"
    }
   ],
   "source": [
    "# read major final demand sectors \n",
    "sectors = pd.read_excel('../Data/Meta.xlsx', sheet_name = 'Data').drop('Eora_classification', axis =1)\n",
    "sec_map = {1: 'Primary industry', 21 : 'Light manufacturing',23 : 'Heavey manufacturing', 3 : 'Tertiary industry' }\n",
    "sectors['Industry_category'] = sectors['Industry_category'].map(sec_map)\n",
    "sectors.head(3)"
   ]
  },
  {
   "cell_type": "markdown",
   "id": "cb168d5e-0851-47c8-9717-712c6377b39c",
   "metadata": {},
   "source": [
    "## 1. CES data"
   ]
  },
  {
   "cell_type": "code",
   "execution_count": 137,
   "id": "2a74c1ca-a109-4bdf-b398-e79cb0f8defb",
   "metadata": {},
   "outputs": [
    {
     "data": {
      "text/html": [
       "<div>\n",
       "<style scoped>\n",
       "    .dataframe tbody tr th:only-of-type {\n",
       "        vertical-align: middle;\n",
       "    }\n",
       "\n",
       "    .dataframe tbody tr th {\n",
       "        vertical-align: top;\n",
       "    }\n",
       "\n",
       "    .dataframe thead th {\n",
       "        text-align: right;\n",
       "    }\n",
       "</style>\n",
       "<table border=\"1\" class=\"dataframe\">\n",
       "  <thead>\n",
       "    <tr style=\"text-align: right;\">\n",
       "      <th></th>\n",
       "      <th>country</th>\n",
       "      <th>Year</th>\n",
       "      <th>Category</th>\n",
       "      <th>iso</th>\n",
       "      <th>0</th>\n",
       "      <th>1</th>\n",
       "      <th>2</th>\n",
       "      <th>3</th>\n",
       "      <th>4</th>\n",
       "      <th>5</th>\n",
       "      <th>...</th>\n",
       "      <th>16</th>\n",
       "      <th>17</th>\n",
       "      <th>18</th>\n",
       "      <th>19</th>\n",
       "      <th>20</th>\n",
       "      <th>21</th>\n",
       "      <th>22</th>\n",
       "      <th>23</th>\n",
       "      <th>24</th>\n",
       "      <th>25</th>\n",
       "    </tr>\n",
       "  </thead>\n",
       "  <tbody>\n",
       "    <tr>\n",
       "      <th>0</th>\n",
       "      <td>Algeria</td>\n",
       "      <td>2011</td>\n",
       "      <td>UMIC</td>\n",
       "      <td>DZA</td>\n",
       "      <td>0.0</td>\n",
       "      <td>0.0</td>\n",
       "      <td>0.0</td>\n",
       "      <td>721.627741</td>\n",
       "      <td>147.509079</td>\n",
       "      <td>25.370904</td>\n",
       "      <td>...</td>\n",
       "      <td>0.0</td>\n",
       "      <td>0.000000</td>\n",
       "      <td>103.313939</td>\n",
       "      <td>103.313939</td>\n",
       "      <td>0.0</td>\n",
       "      <td>0.0</td>\n",
       "      <td>153.144011</td>\n",
       "      <td>0.0</td>\n",
       "      <td>123.104751</td>\n",
       "      <td>0.0</td>\n",
       "    </tr>\n",
       "    <tr>\n",
       "      <th>1</th>\n",
       "      <td>Tunisia</td>\n",
       "      <td>2010</td>\n",
       "      <td>LMIC</td>\n",
       "      <td>TUN</td>\n",
       "      <td>0.0</td>\n",
       "      <td>0.0</td>\n",
       "      <td>0.0</td>\n",
       "      <td>656.001118</td>\n",
       "      <td>185.133436</td>\n",
       "      <td>48.204555</td>\n",
       "      <td>...</td>\n",
       "      <td>0.0</td>\n",
       "      <td>74.751991</td>\n",
       "      <td>198.407154</td>\n",
       "      <td>122.956546</td>\n",
       "      <td>0.0</td>\n",
       "      <td>0.0</td>\n",
       "      <td>270.364678</td>\n",
       "      <td>0.0</td>\n",
       "      <td>9.082018</td>\n",
       "      <td>0.0</td>\n",
       "    </tr>\n",
       "    <tr>\n",
       "      <th>2</th>\n",
       "      <td>Morocco</td>\n",
       "      <td>2014</td>\n",
       "      <td>LMIC</td>\n",
       "      <td>MAR</td>\n",
       "      <td>0.0</td>\n",
       "      <td>0.0</td>\n",
       "      <td>0.0</td>\n",
       "      <td>862.619048</td>\n",
       "      <td>85.476190</td>\n",
       "      <td>0.000000</td>\n",
       "      <td>...</td>\n",
       "      <td>0.0</td>\n",
       "      <td>0.000000</td>\n",
       "      <td>191.666667</td>\n",
       "      <td>64.761905</td>\n",
       "      <td>0.0</td>\n",
       "      <td>0.0</td>\n",
       "      <td>409.285714</td>\n",
       "      <td>0.0</td>\n",
       "      <td>269.404762</td>\n",
       "      <td>0.0</td>\n",
       "    </tr>\n",
       "  </tbody>\n",
       "</table>\n",
       "<p>3 rows × 30 columns</p>\n",
       "</div>"
      ],
      "text/plain": [
       "   country  Year Category  iso    0    1    2           3           4  \\\n",
       "0  Algeria  2011     UMIC  DZA  0.0  0.0  0.0  721.627741  147.509079   \n",
       "1  Tunisia  2010     LMIC  TUN  0.0  0.0  0.0  656.001118  185.133436   \n",
       "2  Morocco  2014     LMIC  MAR  0.0  0.0  0.0  862.619048   85.476190   \n",
       "\n",
       "           5  ...   16         17          18          19   20   21  \\\n",
       "0  25.370904  ...  0.0   0.000000  103.313939  103.313939  0.0  0.0   \n",
       "1  48.204555  ...  0.0  74.751991  198.407154  122.956546  0.0  0.0   \n",
       "2   0.000000  ...  0.0   0.000000  191.666667   64.761905  0.0  0.0   \n",
       "\n",
       "           22   23          24   25  \n",
       "0  153.144011  0.0  123.104751  0.0  \n",
       "1  270.364678  0.0    9.082018  0.0  \n",
       "2  409.285714  0.0  269.404762  0.0  \n",
       "\n",
       "[3 rows x 30 columns]"
      ]
     },
     "execution_count": 137,
     "metadata": {},
     "output_type": "execute_result"
    }
   ],
   "source": [
    "# Set general path \n",
    "ces_path = '../Data/CES/'\n",
    "# Read the CES data \n",
    "y = pd.read_csv(ces_path + 'urban.ces.csv', index_col = 'City')\n",
    "info = pd.read_csv('../infos.csv')\n",
    "y = pd.merge(info, y, left_on = 'Eora_country', right_on = 'Country iso3').drop('Eora_country', axis = 1)\n",
    "y.rename(columns = {'Country iso3': 'iso'}, inplace = True)\n",
    "y.head(3)"
   ]
  },
  {
   "cell_type": "markdown",
   "id": "492cc1d2",
   "metadata": {},
   "source": [
    "## 2. Compute the TIV ($F$)"
   ]
  },
  {
   "cell_type": "markdown",
   "id": "cc6d8164-eebe-4f9e-af29-136807474c80",
   "metadata": {},
   "source": [
    "For this anlysis we're using [Eora26](https://worldmrio.com/eora26/) (v199.82)"
   ]
  },
  {
   "cell_type": "code",
   "execution_count": 5,
   "id": "8ad14ca3-22ab-4322-a1d8-9c34b584fbf8",
   "metadata": {},
   "outputs": [],
   "source": [
    "# Read modules \n",
    "import numpy as np\n",
    "import pandas as pd\n",
    "import os\n",
    "import re"
   ]
  },
  {
   "cell_type": "markdown",
   "id": "f06d0afa",
   "metadata": {},
   "source": [
    "We need to compute the the Total Intensity Vector $(F)$ for these countries: *['CIV', 'MDV', 'MEX', 'DZA', 'LKA', 'CHN', 'BGD', 'ALB', 'ZWE','EGY', 'ZAF', 'MAR', 'NAM', 'BWA', 'VNM', 'ZMB', 'MNE', 'ASM', 'CRI', 'GEO', 'TUN']*\n",
    "\n",
    "To compute the the TIF, we need to preform the following operations: \n",
    "- compute the Xout \n",
    "- compute the direct intensity vector (f) \n",
    "- comput technical coefficient matrix\n",
    "- compute Wassily Leontief inverse \n",
    "- compute the Total intesnity verctor "
   ]
  },
  {
   "cell_type": "code",
   "execution_count": 6,
   "id": "9287b684-a5ec-43cd-9017-1bb1a1689e45",
   "metadata": {},
   "outputs": [
    {
     "name": "stdout",
     "output_type": "stream",
     "text": [
      " \n",
      " i == Eora26_2009_bp \n",
      "\n",
      "m == Eora26_2009_bp_FD.txt\n",
      "m == Eora26_2009_bp_Q.txt\n",
      "m == Eora26_2009_bp_QY.txt\n",
      "m == Eora26_2009_bp_T.txt\n",
      "m == Eora26_2009_bp_VA.txt\n",
      " \n",
      " i == Eora26_2010_bp \n",
      "\n",
      "m == Eora26_2010_bp_FD.txt\n",
      "m == Eora26_2010_bp_Q.txt\n",
      "m == Eora26_2010_bp_QY.txt\n",
      "m == Eora26_2010_bp_T.txt\n",
      "m == Eora26_2010_bp_VA.txt\n",
      " \n",
      " i == Eora26_2011_bp \n",
      "\n",
      "m == Eora26_2011_bp_FD.txt\n",
      "m == Eora26_2011_bp_Q.txt\n",
      "m == Eora26_2011_bp_QY.txt\n",
      "m == Eora26_2011_bp_T.txt\n",
      "m == Eora26_2011_bp_VA.txt\n",
      " \n",
      " i == Eora26_2012_bp \n",
      "\n",
      "m == Eora26_2012_bp_FD.txt\n",
      "m == Eora26_2012_bp_Q.txt\n",
      "m == Eora26_2012_bp_QY.txt\n",
      "m == Eora26_2012_bp_T.txt\n",
      "m == Eora26_2012_bp_VA.txt\n",
      " \n",
      " i == Eora26_2013_bp \n",
      "\n",
      "m == Eora26_2013_bp_FD.txt\n",
      "m == Eora26_2013_bp_Q.txt\n",
      "m == Eora26_2013_bp_QY.txt\n",
      "m == Eora26_2013_bp_T.txt\n",
      "m == Eora26_2013_bp_VA.txt\n",
      " \n",
      " i == Eora26_2014_bp \n",
      "\n",
      "m == Eora26_2014_bp_FD.txt\n",
      "m == Eora26_2014_bp_Q.txt\n",
      "m == Eora26_2014_bp_QY.txt\n",
      "m == Eora26_2014_bp_T.txt\n",
      "m == Eora26_2014_bp_VA.txt\n",
      " \n",
      " i == Eora26_2015_bp \n",
      "\n",
      "m == Eora26_2015_bp_FD.txt\n",
      "m == Eora26_2015_bp_Q.txt\n",
      "m == Eora26_2015_bp_QY.txt\n",
      "m == Eora26_2015_bp_T.txt\n",
      "m == Eora26_2015_bp_VA.txt\n"
     ]
    }
   ],
   "source": [
    "# set paths \n",
    "bp_path = '../Data/Eora/Eora_BP/'\n",
    "\n",
    "# Read the index \n",
    "index = [file for file in os.listdir(bp_path)]\n",
    "index\n",
    "\n",
    "containers = {}\n",
    "for i in index:\n",
    "    path = [file for file in os.listdir(bp_path + i) if any(map(str.isdigit, file))]\n",
    "    print(f' \\n i == {i} \\n')\n",
    "    container = {}\n",
    "    containers[i] = container\n",
    "    for m in path:\n",
    "        print(f'm == {m}')\n",
    "        read = pd.read_csv(bp_path + i + '/' + m, delimiter = '\\t', header = None)\n",
    "        container[m.split('_')[-1].split('.')[0]] = read"
   ]
  },
  {
   "cell_type": "code",
   "execution_count": 7,
   "id": "fff7c624-3a82-4397-9042-91e2efd1f626",
   "metadata": {},
   "outputs": [
    {
     "name": "stdout",
     "output_type": "stream",
     "text": [
      "BB values\n"
     ]
    }
   ],
   "source": [
    "# get the xout for the basic prices and purchaser prices \n",
    "\n",
    "BP = {}\n",
    "print('BB values')\n",
    "# set the computation code \n",
    "for i in containers.keys():\n",
    "    # print('---')\n",
    "    # print(i)\n",
    "    # print('---')\n",
    "    for m in containers.get(i):\n",
    "        \"\"\" interate over the dic and return the xout for each years\"\"\"\n",
    "        np.seterr(divide='ignore', invalid='ignore')\n",
    "        xout = np.empty((4915,1))\n",
    "        np.add(np.add.reduce(np.array(containers.get(i).get('T')), axis =1)[:, np.newaxis], np.add.reduce(np.array(containers.get(i).get('FD')), axis =1)[:, np.newaxis], out = xout)\n",
    "        BP[i.split('_')[1]] = xout"
   ]
  },
  {
   "cell_type": "code",
   "execution_count": 13,
   "id": "e808e2a6-47f8-4feb-91f5-7297efb68e6a",
   "metadata": {},
   "outputs": [
    {
     "name": "stdout",
     "output_type": "stream",
     "text": [
      " \n",
      " i == Eora26_2009_pp \n",
      "\n",
      "m == Eora26_2009_pp_FD.txt\n",
      "m == Eora26_2009_pp_Q.txt\n",
      "m == Eora26_2009_pp_QY.txt\n",
      "m == Eora26_2009_pp_T.txt\n",
      "m == Eora26_2009_pp_VA.txt\n",
      " \n",
      " i == Eora26_2010_pp \n",
      "\n",
      "m == Eora26_2010_pp_FD.txt\n",
      "m == Eora26_2010_pp_Q.txt\n",
      "m == Eora26_2010_pp_QY.txt\n",
      "m == Eora26_2010_pp_T.txt\n",
      "m == Eora26_2010_pp_VA.txt\n",
      " \n",
      " i == Eora26_2011_pp \n",
      "\n",
      "m == Eora26_2011_pp_FD.txt\n",
      "m == Eora26_2011_pp_Q.txt\n",
      "m == Eora26_2011_pp_QY.txt\n",
      "m == Eora26_2011_pp_T.txt\n",
      "m == Eora26_2011_pp_VA.txt\n",
      " \n",
      " i == Eora26_2012_pp \n",
      "\n",
      "m == Eora26_2012_pp_FD.txt\n",
      "m == Eora26_2012_pp_Q.txt\n",
      "m == Eora26_2012_pp_QY.txt\n",
      "m == Eora26_2012_pp_T.txt\n",
      "m == Eora26_2012_pp_VA.txt\n",
      " \n",
      " i == Eora26_2013_pp \n",
      "\n",
      "m == Eora26_2013_pp_FD.txt\n",
      "m == Eora26_2013_pp_Q.txt\n",
      "m == Eora26_2013_pp_QY.txt\n",
      "m == Eora26_2013_pp_T.txt\n",
      "m == Eora26_2013_pp_VA.txt\n",
      " \n",
      " i == Eora26_2014_pp \n",
      "\n",
      "m == Eora26_2014_pp_FD.txt\n",
      "m == Eora26_2014_pp_Q.txt\n",
      "m == Eora26_2014_pp_QY.txt\n",
      "m == Eora26_2014_pp_T.txt\n",
      "m == Eora26_2014_pp_VA.txt\n",
      " \n",
      " i == Eora26_2015_pp \n",
      "\n",
      "m == Eora26_2015_pp_FD.txt\n",
      "m == Eora26_2015_pp_Q.txt\n",
      "m == Eora26_2015_pp_QY.txt\n",
      "m == Eora26_2015_pp_T.txt\n",
      "m == Eora26_2015_pp_VA.txt\n"
     ]
    }
   ],
   "source": [
    "### read the tables in PP \n",
    "\n",
    "# set paths \n",
    "pp_path = '../Data/Eora/Eora_PP/'\n",
    "\n",
    "# Read the index \n",
    "dex = [file for file in os.listdir(pp_path)]\n",
    "\n",
    "conts = {}\n",
    "for i in dex:\n",
    "    path = [file for file in os.listdir(pp_path + i) if any(map(str.isdigit, file))]\n",
    "    print(f' \\n i == {i} \\n')\n",
    "    container = {}\n",
    "    conts[i] = container\n",
    "    for m in path:\n",
    "        print(f'm == {m}')\n",
    "        read = pd.read_csv(pp_path + i + '/' + m, delimiter = '\\t', header = None)\n",
    "        container[m.split('_')[-1].split('.')[0]] = read"
   ]
  },
  {
   "cell_type": "code",
   "execution_count": 14,
   "id": "eeec5dda-9e49-4aeb-ba94-402a9f3bdc74",
   "metadata": {},
   "outputs": [
    {
     "name": "stdout",
     "output_type": "stream",
     "text": [
      "PP values\n",
      "---\n",
      "Eora26_2009_pp\n",
      "---\n",
      "---\n",
      "Eora26_2010_pp\n",
      "---\n",
      "---\n",
      "Eora26_2011_pp\n",
      "---\n",
      "---\n",
      "Eora26_2012_pp\n",
      "---\n",
      "---\n",
      "Eora26_2013_pp\n",
      "---\n",
      "---\n",
      "Eora26_2014_pp\n",
      "---\n",
      "---\n",
      "Eora26_2015_pp\n",
      "---\n"
     ]
    }
   ],
   "source": [
    "PP = {}\n",
    "print('PP values')\n",
    "# set the computation code \n",
    "for i in conts.keys():\n",
    "    print('---')\n",
    "    print(i)\n",
    "    print('---')\n",
    "    for m in conts.get(i):\n",
    "        \"\"\" interate over the dic and return the xout for each of the years\"\"\"\n",
    "        np.seterr(divide='ignore', invalid='ignore')\n",
    "        xout = np.empty((4915,1))\n",
    "        np.add(np.add.reduce(np.array(conts.get(i).get('T')), axis =1)[:, np.newaxis], np.add.reduce(np.array(conts.get(i).get('FD')), axis =1)[:, np.newaxis], out = xout)\n",
    "        PP[i.split('_')[1]] = xout"
   ]
  },
  {
   "cell_type": "code",
   "execution_count": 36,
   "id": "adf90e96-a13f-4fc9-a91e-30b79aa5e4b4",
   "metadata": {},
   "outputs": [],
   "source": [
    "# compte the fraction PP/BP\n",
    "years = np.arange(2009, 2016).astype('str')\n",
    "frac = {}\n",
    "for year in years: \n",
    "    frac[year] = PP.get(year) / BP.get(year)"
   ]
  },
  {
   "cell_type": "code",
   "execution_count": 43,
   "id": "8a750535-a9a3-47f8-b717-5b4fe145eb10",
   "metadata": {},
   "outputs": [
    {
     "data": {
      "text/plain": [
       "0       WFN: Total water footprint (Mm3/yr) - Grey\n",
       "1                                            Total\n",
       "2                                              NaN\n",
       "0                                            335.7\n",
       "1                                          0.25441\n",
       "                           ...                    \n",
       "4910                                        22.022\n",
       "4911                                           0.0\n",
       "4912                                           0.0\n",
       "4913                                           0.0\n",
       "4914                                             0\n",
       "Name: 2501, Length: 4918, dtype: object"
      ]
     },
     "execution_count": 43,
     "metadata": {},
     "output_type": "execute_result"
    }
   ],
   "source": [
    "## check the Q-values index\n",
    "Q = pd.read_csv('../Data/Eora/Eora_BP/Eora26_2009_bp/Eora26_2009_bp_Q.txt', delimiter = '\\t', header = None)\n",
    "I = pd.read_csv('../Data/Eora/Eora_BP/Eora26_2009_bp/labels_Q.txt', delimiter = '\\t', header = None)\n",
    "lo = pd.concat([I, Q], axis = 1)\n",
    "lo.iloc[2501,]"
   ]
  },
  {
   "cell_type": "code",
   "execution_count": null,
   "id": "941d31c1-e696-4113-bc0c-db3220ed82bd",
   "metadata": {},
   "outputs": [],
   "source": [
    "Blue = {}\n",
    "print('Blue water footprint')\n",
    "# set the computation code \n",
    "for i in containers.keys():\n",
    "    # print('---')\n",
    "    # print(i)\n",
    "    # print('---')\n",
    "    for m in containers.get(i):\n",
    "        \"\"\" interate over the dic and return the TIV for each of the years\"\"\"\n",
    "        np.seterr(divide='ignore', invalid='ignore')\n",
    "        xout = np.empty((4915,1))\n",
    "        np.add(np.add.reduce(np.array(containers.get(i).get('T')), axis =1)[:, np.newaxis], np.add.reduce(np.array(containers.get(i).get('FD')), axis =1)[:, np.newaxis], out = xout)\n",
    "        # compute direct intensity vector (f) \n",
    "        f = np.zeros_like(xout)\n",
    "        np.divide(np.array(containers.get(i).get('Q'))[2500,:][:, np.newaxis], xout, out=f, where= xout != 0)\n",
    "        # comput technical coefficient matrix \n",
    "        A = np.empty((4915, 4915))\n",
    "        np.divide(containers.get(i).get('T'), xout, out = A)\n",
    "        A = np.array(pd.DataFrame(A).fillna(0))\n",
    "        # creating identity matrix \n",
    "        I = np.eye(4915)\n",
    "        # compute the Wassily Leontief inverse \n",
    "        L = np.linalg.inv((I - A)) \n",
    "        # compute the Total intesnity verctor \n",
    "        F = L.dot(f)\n",
    "        Blue[i.split('_')[1]] = F"
   ]
  },
  {
   "cell_type": "code",
   "execution_count": null,
   "id": "f890a126-3607-4d06-aeb8-51087bbc8303",
   "metadata": {},
   "outputs": [],
   "source": [
    "Grey = {}\n",
    "# set the computation code \n",
    "print('Grey water footprint')\n",
    "for i in containers.keys():\n",
    "    print('---')\n",
    "    print(i)\n",
    "    print('---')\n",
    "    for m in containers.get(i):\n",
    "        \"\"\" interate over the dic and return the TIV for each of the years\"\"\"\n",
    "        np.seterr(divide='ignore', invalid='ignore')\n",
    "        xout = np.empty((4915,1))\n",
    "        np.add(np.add.reduce(np.array(containers.get(i).get('T')), axis =1)[:, np.newaxis], np.add.reduce(np.array(containers.get(i).get('FD')), axis =1)[:, np.newaxis], out = xout)\n",
    "        # compute direct intensity vector (f) \n",
    "        f = np.zeros_like(xout)\n",
    "        np.divide(np.array(containers.get(i).get('Q'))[2501,:][:, np.newaxis], xout, out=f, where= xout != 0)\n",
    "        # comput technical coefficient matrix \n",
    "        A = np.empty((4915, 4915))\n",
    "        np.divide(containers.get(i).get('T'), xout, out = A)\n",
    "        A = np.array(pd.DataFrame(A).fillna(0))\n",
    "        # creating identity matrix \n",
    "        I = np.eye(4915)\n",
    "        # compute the Wassily Leontief inverse \n",
    "        L = np.linalg.inv((I - A)) \n",
    "        # compute the Total intesnity verctor \n",
    "        F = L.dot(f)\n",
    "        Grey[i.split('_')[1]] = F"
   ]
  },
  {
   "cell_type": "code",
   "execution_count": 44,
   "id": "f631ce8a-3306-404e-aa3b-45e837f300f6",
   "metadata": {},
   "outputs": [
    {
     "data": {
      "text/html": [
       "<div>\n",
       "<style scoped>\n",
       "    .dataframe tbody tr th:only-of-type {\n",
       "        vertical-align: middle;\n",
       "    }\n",
       "\n",
       "    .dataframe tbody tr th {\n",
       "        vertical-align: top;\n",
       "    }\n",
       "\n",
       "    .dataframe thead th {\n",
       "        text-align: right;\n",
       "    }\n",
       "</style>\n",
       "<table border=\"1\" class=\"dataframe\">\n",
       "  <thead>\n",
       "    <tr style=\"text-align: right;\">\n",
       "      <th></th>\n",
       "      <th>country</th>\n",
       "      <th>iso3</th>\n",
       "      <th>industries</th>\n",
       "      <th>sector</th>\n",
       "    </tr>\n",
       "  </thead>\n",
       "  <tbody>\n",
       "    <tr>\n",
       "      <th>0</th>\n",
       "      <td>Afghanistan</td>\n",
       "      <td>AFG</td>\n",
       "      <td>Industries</td>\n",
       "      <td>Agriculture</td>\n",
       "    </tr>\n",
       "    <tr>\n",
       "      <th>1</th>\n",
       "      <td>Afghanistan</td>\n",
       "      <td>AFG</td>\n",
       "      <td>Industries</td>\n",
       "      <td>Fishing</td>\n",
       "    </tr>\n",
       "    <tr>\n",
       "      <th>2</th>\n",
       "      <td>Afghanistan</td>\n",
       "      <td>AFG</td>\n",
       "      <td>Industries</td>\n",
       "      <td>Mining and Quarrying</td>\n",
       "    </tr>\n",
       "  </tbody>\n",
       "</table>\n",
       "</div>"
      ],
      "text/plain": [
       "       country iso3  industries                sector\n",
       "0  Afghanistan  AFG  Industries           Agriculture\n",
       "1  Afghanistan  AFG  Industries               Fishing\n",
       "2  Afghanistan  AFG  Industries  Mining and Quarrying"
      ]
     },
     "execution_count": 44,
     "metadata": {},
     "output_type": "execute_result"
    }
   ],
   "source": [
    "## import the index of countries & sectors \n",
    "index = pd.read_csv('../Data/Eora/Eora_BP/Eora26_2009_bp/labels_T.txt', delimiter = '\\t', header = None).iloc[:,:-1]\n",
    "index.columns = ['country', 'iso3', 'industries', 'sector']\n",
    "index.head(3)"
   ]
  },
  {
   "cell_type": "code",
   "execution_count": 59,
   "id": "8486fd28",
   "metadata": {},
   "outputs": [],
   "source": [
    "## add metadata to the frac dic \n",
    "for i in frac.keys():\n",
    "    frac[i] = pd.concat([index, pd.DataFrame(frac.get(i))], axis = 1)"
   ]
  },
  {
   "cell_type": "markdown",
   "id": "f7102246",
   "metadata": {},
   "source": [
    "### Convert PP to BP"
   ]
  },
  {
   "cell_type": "code",
   "execution_count": 125,
   "id": "1d05cbb0",
   "metadata": {},
   "outputs": [
    {
     "data": {
      "text/html": [
       "<div>\n",
       "<style scoped>\n",
       "    .dataframe tbody tr th:only-of-type {\n",
       "        vertical-align: middle;\n",
       "    }\n",
       "\n",
       "    .dataframe tbody tr th {\n",
       "        vertical-align: top;\n",
       "    }\n",
       "\n",
       "    .dataframe thead th {\n",
       "        text-align: right;\n",
       "    }\n",
       "</style>\n",
       "<table border=\"1\" class=\"dataframe\">\n",
       "  <thead>\n",
       "    <tr style=\"text-align: right;\">\n",
       "      <th></th>\n",
       "      <th>country</th>\n",
       "      <th>iso3</th>\n",
       "      <th>industries</th>\n",
       "      <th>sector</th>\n",
       "      <th>country</th>\n",
       "      <th>iso3</th>\n",
       "      <th>industries</th>\n",
       "      <th>sector</th>\n",
       "      <th>0</th>\n",
       "    </tr>\n",
       "  </thead>\n",
       "  <tbody>\n",
       "    <tr>\n",
       "      <th>0</th>\n",
       "      <td>Afghanistan</td>\n",
       "      <td>AFG</td>\n",
       "      <td>Industries</td>\n",
       "      <td>Agriculture</td>\n",
       "      <td>Afghanistan</td>\n",
       "      <td>AFG</td>\n",
       "      <td>Industries</td>\n",
       "      <td>Agriculture</td>\n",
       "      <td>1.305482</td>\n",
       "    </tr>\n",
       "    <tr>\n",
       "      <th>1</th>\n",
       "      <td>Afghanistan</td>\n",
       "      <td>AFG</td>\n",
       "      <td>Industries</td>\n",
       "      <td>Fishing</td>\n",
       "      <td>Afghanistan</td>\n",
       "      <td>AFG</td>\n",
       "      <td>Industries</td>\n",
       "      <td>Fishing</td>\n",
       "      <td>1.503965</td>\n",
       "    </tr>\n",
       "    <tr>\n",
       "      <th>2</th>\n",
       "      <td>Afghanistan</td>\n",
       "      <td>AFG</td>\n",
       "      <td>Industries</td>\n",
       "      <td>Mining and Quarrying</td>\n",
       "      <td>Afghanistan</td>\n",
       "      <td>AFG</td>\n",
       "      <td>Industries</td>\n",
       "      <td>Mining and Quarrying</td>\n",
       "      <td>1.440132</td>\n",
       "    </tr>\n",
       "  </tbody>\n",
       "</table>\n",
       "</div>"
      ],
      "text/plain": [
       "       country iso3  industries                sector      country iso3  \\\n",
       "0  Afghanistan  AFG  Industries           Agriculture  Afghanistan  AFG   \n",
       "1  Afghanistan  AFG  Industries               Fishing  Afghanistan  AFG   \n",
       "2  Afghanistan  AFG  Industries  Mining and Quarrying  Afghanistan  AFG   \n",
       "\n",
       "   industries                sector         0  \n",
       "0  Industries           Agriculture  1.305482  \n",
       "1  Industries               Fishing  1.503965  \n",
       "2  Industries  Mining and Quarrying  1.440132  "
      ]
     },
     "execution_count": 125,
     "metadata": {},
     "output_type": "execute_result"
    }
   ],
   "source": [
    "frac.get('2011').head(3)"
   ]
  },
  {
   "cell_type": "code",
   "execution_count": 136,
   "id": "fd93c4ea",
   "metadata": {},
   "outputs": [
    {
     "data": {
      "text/html": [
       "<div>\n",
       "<style scoped>\n",
       "    .dataframe tbody tr th:only-of-type {\n",
       "        vertical-align: middle;\n",
       "    }\n",
       "\n",
       "    .dataframe tbody tr th {\n",
       "        vertical-align: top;\n",
       "    }\n",
       "\n",
       "    .dataframe thead th {\n",
       "        text-align: right;\n",
       "    }\n",
       "</style>\n",
       "<table border=\"1\" class=\"dataframe\">\n",
       "  <thead>\n",
       "    <tr style=\"text-align: right;\">\n",
       "      <th></th>\n",
       "      <th>0</th>\n",
       "    </tr>\n",
       "  </thead>\n",
       "  <tbody>\n",
       "    <tr>\n",
       "      <th>0</th>\n",
       "      <td>0.0</td>\n",
       "    </tr>\n",
       "    <tr>\n",
       "      <th>1</th>\n",
       "      <td>0.0</td>\n",
       "    </tr>\n",
       "    <tr>\n",
       "      <th>2</th>\n",
       "      <td>0.0</td>\n",
       "    </tr>\n",
       "  </tbody>\n",
       "</table>\n",
       "</div>"
      ],
      "text/plain": [
       "     0\n",
       "0  0.0\n",
       "1  0.0\n",
       "2  0.0"
      ]
     },
     "execution_count": 136,
     "metadata": {},
     "output_type": "execute_result"
    }
   ],
   "source": [
    "y.head(3)"
   ]
  },
  {
   "cell_type": "code",
   "execution_count": 148,
   "id": "6eddc466",
   "metadata": {},
   "outputs": [
    {
     "data": {
      "text/plain": [
       "array([ 1.1696327 ,  1.31971919,  1.08253494,  1.52976089,  2.1576586 ,\n",
       "        1.25358181,  2.01854772,  1.19939788,  1.41064319,  1.31564692,\n",
       "        1.68827484,  1.86913163,  1.00613425,  1.00651149,  1.50874336,\n",
       "        0.70060246,  0.18118353, -0.33078768, -0.92557451,  1.02894791,\n",
       "        1.04288751,  1.00217444,  1.02241939,  1.11615784,  1.01789016,\n",
       "        6.57182659])"
      ]
     },
     "execution_count": 148,
     "metadata": {},
     "output_type": "execute_result"
    }
   ],
   "source": [
    "np.array(frac.get('2011').query('iso3 == \"DZA\"').iloc[:,-1])"
   ]
  },
  {
   "cell_type": "code",
   "execution_count": 172,
   "id": "011e8614",
   "metadata": {},
   "outputs": [
    {
     "data": {
      "text/html": [
       "<div>\n",
       "<style scoped>\n",
       "    .dataframe tbody tr th:only-of-type {\n",
       "        vertical-align: middle;\n",
       "    }\n",
       "\n",
       "    .dataframe tbody tr th {\n",
       "        vertical-align: top;\n",
       "    }\n",
       "\n",
       "    .dataframe thead th {\n",
       "        text-align: right;\n",
       "    }\n",
       "</style>\n",
       "<table border=\"1\" class=\"dataframe\">\n",
       "  <thead>\n",
       "    <tr style=\"text-align: right;\">\n",
       "      <th></th>\n",
       "      <th>0</th>\n",
       "    </tr>\n",
       "  </thead>\n",
       "  <tbody>\n",
       "    <tr>\n",
       "      <th>52</th>\n",
       "      <td>1.169633</td>\n",
       "    </tr>\n",
       "    <tr>\n",
       "      <th>53</th>\n",
       "      <td>1.319719</td>\n",
       "    </tr>\n",
       "    <tr>\n",
       "      <th>54</th>\n",
       "      <td>1.082535</td>\n",
       "    </tr>\n",
       "    <tr>\n",
       "      <th>55</th>\n",
       "      <td>1.529761</td>\n",
       "    </tr>\n",
       "    <tr>\n",
       "      <th>56</th>\n",
       "      <td>2.157659</td>\n",
       "    </tr>\n",
       "    <tr>\n",
       "      <th>57</th>\n",
       "      <td>1.253582</td>\n",
       "    </tr>\n",
       "    <tr>\n",
       "      <th>58</th>\n",
       "      <td>2.018548</td>\n",
       "    </tr>\n",
       "    <tr>\n",
       "      <th>59</th>\n",
       "      <td>1.199398</td>\n",
       "    </tr>\n",
       "    <tr>\n",
       "      <th>60</th>\n",
       "      <td>1.410643</td>\n",
       "    </tr>\n",
       "    <tr>\n",
       "      <th>61</th>\n",
       "      <td>1.315647</td>\n",
       "    </tr>\n",
       "    <tr>\n",
       "      <th>62</th>\n",
       "      <td>1.688275</td>\n",
       "    </tr>\n",
       "    <tr>\n",
       "      <th>63</th>\n",
       "      <td>1.869132</td>\n",
       "    </tr>\n",
       "    <tr>\n",
       "      <th>64</th>\n",
       "      <td>1.006134</td>\n",
       "    </tr>\n",
       "    <tr>\n",
       "      <th>65</th>\n",
       "      <td>1.006511</td>\n",
       "    </tr>\n",
       "    <tr>\n",
       "      <th>66</th>\n",
       "      <td>1.508743</td>\n",
       "    </tr>\n",
       "    <tr>\n",
       "      <th>67</th>\n",
       "      <td>0.700602</td>\n",
       "    </tr>\n",
       "    <tr>\n",
       "      <th>68</th>\n",
       "      <td>0.181184</td>\n",
       "    </tr>\n",
       "    <tr>\n",
       "      <th>69</th>\n",
       "      <td>-0.330788</td>\n",
       "    </tr>\n",
       "    <tr>\n",
       "      <th>70</th>\n",
       "      <td>-0.925575</td>\n",
       "    </tr>\n",
       "    <tr>\n",
       "      <th>71</th>\n",
       "      <td>1.028948</td>\n",
       "    </tr>\n",
       "    <tr>\n",
       "      <th>72</th>\n",
       "      <td>1.042888</td>\n",
       "    </tr>\n",
       "    <tr>\n",
       "      <th>73</th>\n",
       "      <td>1.002174</td>\n",
       "    </tr>\n",
       "    <tr>\n",
       "      <th>74</th>\n",
       "      <td>1.022419</td>\n",
       "    </tr>\n",
       "    <tr>\n",
       "      <th>75</th>\n",
       "      <td>1.116158</td>\n",
       "    </tr>\n",
       "    <tr>\n",
       "      <th>76</th>\n",
       "      <td>1.017890</td>\n",
       "    </tr>\n",
       "    <tr>\n",
       "      <th>77</th>\n",
       "      <td>6.571827</td>\n",
       "    </tr>\n",
       "  </tbody>\n",
       "</table>\n",
       "</div>"
      ],
      "text/plain": [
       "           0\n",
       "52  1.169633\n",
       "53  1.319719\n",
       "54  1.082535\n",
       "55  1.529761\n",
       "56  2.157659\n",
       "57  1.253582\n",
       "58  2.018548\n",
       "59  1.199398\n",
       "60  1.410643\n",
       "61  1.315647\n",
       "62  1.688275\n",
       "63  1.869132\n",
       "64  1.006134\n",
       "65  1.006511\n",
       "66  1.508743\n",
       "67  0.700602\n",
       "68  0.181184\n",
       "69 -0.330788\n",
       "70 -0.925575\n",
       "71  1.028948\n",
       "72  1.042888\n",
       "73  1.002174\n",
       "74  1.022419\n",
       "75  1.116158\n",
       "76  1.017890\n",
       "77  6.571827"
      ]
     },
     "execution_count": 172,
     "metadata": {},
     "output_type": "execute_result"
    }
   ],
   "source": []
  },
  {
   "cell_type": "code",
   "execution_count": 187,
   "id": "656cec72",
   "metadata": {},
   "outputs": [
    {
     "ename": "SyntaxError",
     "evalue": "invalid syntax (Temp/ipykernel_2212/2528676130.py, line 1)",
     "output_type": "error",
     "traceback": [
      "\u001b[1;36m  File \u001b[1;32m\"C:\\Users\\MHACHA~1\\AppData\\Local\\Temp/ipykernel_2212/2528676130.py\"\u001b[1;36m, line \u001b[1;32m1\u001b[0m\n\u001b[1;33m    np.array(y.query('iso == \"DZA\"').iloc[:, 4:].T) / np.array(frac.get('2011').query('iso3 == \"DZA\"').iloc[:,-1]np.array(frac.get('2011').query('iso3 == \"DZA\"').iloc[:,-1])[:, np.newaxis])\u001b[0m\n\u001b[1;37m                                                                                                                 ^\u001b[0m\n\u001b[1;31mSyntaxError\u001b[0m\u001b[1;31m:\u001b[0m invalid syntax\n"
     ]
    }
   ],
   "source": [
    "np.array(y.query('iso == \"DZA\"').iloc[:, 4:].T) / np.array(frac.get('2011').query('iso3 == \"DZA\"').iloc[:,-1]np.array(frac.get('2011').query('iso3 == \"DZA\"').iloc[:,-1])[:, np.newaxis]) "
   ]
  },
  {
   "cell_type": "code",
   "execution_count": 194,
   "id": "15460356",
   "metadata": {},
   "outputs": [],
   "source": [
    "y_adjusted = {}\n",
    "# downscale from PP to BP \n",
    "for name in y['iso']:\n",
    "    year = y[y['iso'] == name]['Year'].unique().item()\n",
    "    f = np.array(frac.get(str(year)).query(f'iso3 == \"{iso}\"').iloc[:,-1])[:, np.newaxis]\n",
    "    yy = np.array(y[y['iso'] == f\"{name}\"].iloc[:,4:].T)\n",
    "    corrected = yy / f\n",
    "    y_adjusted[name] = corrected"
   ]
  },
  {
   "cell_type": "markdown",
   "id": "198c0210",
   "metadata": {},
   "source": [
    "## ma"
   ]
  },
  {
   "cell_type": "code",
   "execution_count": 54,
   "id": "d98540b0-01e1-4471-aaca-87b76928b32c",
   "metadata": {},
   "outputs": [
    {
     "ename": "NameError",
     "evalue": "name 'Blue' is not defined",
     "output_type": "error",
     "traceback": [
      "\u001b[1;31m---------------------------------------------------------------------------\u001b[0m",
      "\u001b[1;31mNameError\u001b[0m                                 Traceback (most recent call last)",
      "\u001b[1;32mC:\\Users\\MHACHA~1\\AppData\\Local\\Temp/ipykernel_2212/551652921.py\u001b[0m in \u001b[0;36m<module>\u001b[1;34m\u001b[0m\n\u001b[0;32m      1\u001b[0m \u001b[1;31m## add the countries and the sectors names\u001b[0m\u001b[1;33m\u001b[0m\u001b[1;33m\u001b[0m\u001b[0m\n\u001b[1;32m----> 2\u001b[1;33m \u001b[1;32mfor\u001b[0m \u001b[0mi\u001b[0m \u001b[1;32min\u001b[0m \u001b[0mBlue\u001b[0m\u001b[1;33m.\u001b[0m\u001b[0mkeys\u001b[0m\u001b[1;33m(\u001b[0m\u001b[1;33m)\u001b[0m\u001b[1;33m:\u001b[0m\u001b[1;33m\u001b[0m\u001b[1;33m\u001b[0m\u001b[0m\n\u001b[0m\u001b[0;32m      3\u001b[0m     \u001b[0mBlue\u001b[0m\u001b[1;33m[\u001b[0m\u001b[0mi\u001b[0m\u001b[1;33m]\u001b[0m \u001b[1;33m=\u001b[0m \u001b[0mpd\u001b[0m\u001b[1;33m.\u001b[0m\u001b[0mconcat\u001b[0m\u001b[1;33m(\u001b[0m\u001b[1;33m[\u001b[0m\u001b[0mindex\u001b[0m\u001b[1;33m,\u001b[0m \u001b[0mpd\u001b[0m\u001b[1;33m.\u001b[0m\u001b[0mDataFrame\u001b[0m\u001b[1;33m(\u001b[0m\u001b[0mBlue\u001b[0m\u001b[1;33m.\u001b[0m\u001b[0mget\u001b[0m\u001b[1;33m(\u001b[0m\u001b[0mi\u001b[0m\u001b[1;33m)\u001b[0m\u001b[1;33m)\u001b[0m\u001b[1;33m]\u001b[0m\u001b[1;33m,\u001b[0m \u001b[0maxis\u001b[0m \u001b[1;33m=\u001b[0m \u001b[1;36m1\u001b[0m\u001b[1;33m)\u001b[0m\u001b[1;33m\u001b[0m\u001b[1;33m\u001b[0m\u001b[0m\n\u001b[0;32m      4\u001b[0m \u001b[1;33m\u001b[0m\u001b[0m\n\u001b[0;32m      5\u001b[0m \u001b[1;32mfor\u001b[0m \u001b[0mi\u001b[0m \u001b[1;32min\u001b[0m \u001b[0mGrey\u001b[0m\u001b[1;33m.\u001b[0m\u001b[0mkeys\u001b[0m\u001b[1;33m(\u001b[0m\u001b[1;33m)\u001b[0m\u001b[1;33m:\u001b[0m\u001b[1;33m\u001b[0m\u001b[1;33m\u001b[0m\u001b[0m\n",
      "\u001b[1;31mNameError\u001b[0m: name 'Blue' is not defined"
     ]
    }
   ],
   "source": [
    "## add the countries and the sectors names \n",
    "for i in Blue.keys():\n",
    "    Blue[i] = pd.concat([index, pd.DataFrame(Blue.get(i))], axis = 1)\n",
    "    \n",
    "for i in Grey.keys():\n",
    "    Grey[i] = pd.concat([index, pd.DataFrame(Grey.get(i))], axis = 1)   "
   ]
  },
  {
   "cell_type": "code",
   "execution_count": null,
   "id": "290971a7-1faf-4ca2-998d-8a954be6f026",
   "metadata": {},
   "outputs": [],
   "source": [
    "# get the TIV for each country & year \n",
    "info = pd.read_csv('../infos.csv')\n",
    "info.head(3)"
   ]
  },
  {
   "cell_type": "code",
   "execution_count": null,
   "id": "150e9dd4-b8bd-4217-849a-7f1e8d0d5cda",
   "metadata": {},
   "outputs": [],
   "source": [
    "## get the data for each year & country \n",
    "Bleu_F = {}\n",
    "for i in info['Eora_country'].unique():\n",
    "    Year = info[info['Eora_country'] == i].Year.item()\n",
    "    Bleu_F[i] = Blue.get(f\"{Year}\").query(f'iso3 == \"{i}\"')[['iso3', 'sector', 0]]\n",
    "    \n",
    "Grey_F = {}\n",
    "for i in info['Eora_country'].unique():\n",
    "    Year = info[info['Eora_country'] == i].Year.item()\n",
    "    Grey_F[i] = Grey.get(f\"{Year}\").query(f'iso3 == \"{i}\"')[['iso3', 'sector', 0]]"
   ]
  },
  {
   "cell_type": "code",
   "execution_count": null,
   "id": "3d365206-5b02-4474-a713-1ca44b970d0b",
   "metadata": {},
   "outputs": [],
   "source": [
    "## get the footprints \n",
    "\n",
    "Bleu_foot = {}\n",
    "\n",
    "for name in Bleu_F.keys(): \n",
    "    city = np.array(y[y['Country iso3'] == f'{name}'].iloc[:,2:].T)\n",
    "    TIF = np.array(Bleu_F.get(f'{name}')[[0]])\n",
    "    com = pd.DataFrame(city * TIF)\n",
    "    com.columns = y[y['Country iso3'] == f'{name}'].iloc[:,2:].T.columns   \n",
    "    Bleu_foot[name] = com\n",
    "    \n",
    "Grey_foot = {}\n",
    "\n",
    "for name in Grey_F.keys(): \n",
    "    city = np.array(y[y['Country iso3'] == f'{name}'].iloc[:,2:].T)\n",
    "    TIF = np.array(Grey_F.get(f'{name}')[[0]])\n",
    "    com = pd.DataFrame(city * TIF)\n",
    "    com.columns = y[y['Country iso3'] == f'{name}'].iloc[:,2:].T.columns   \n",
    "    Grey_foot[name] = com"
   ]
  },
  {
   "cell_type": "code",
   "execution_count": null,
   "id": "4d3c5878-d9aa-4cfb-a814-381be82c4224",
   "metadata": {},
   "outputs": [],
   "source": [
    "o"
   ]
  },
  {
   "cell_type": "code",
   "execution_count": null,
   "id": "582c3c9e-46e8-4e73-bc26-d12346d9ff5d",
   "metadata": {},
   "outputs": [],
   "source": [
    "sns.set_style('whitegrid')\n",
    "b = Bleu_foot.get('CHN').sum().to_frame()\n",
    "b.columns = ['Bleu virtual water']\n",
    "g = Grey_foot.get('CHN').sum().to_frame()\n",
    "g.columns = ['Grey virtual water']\n",
    "o = pd.concat([b,g], axis = 1)\n",
    "o = o * 1000\n",
    "# o = o.melt()\n",
    "o.plot(kind = 'barh', figsize= (8, 7), ylabel = '', xlabel = '', color = ['b', 'grey'])\n",
    "plt.title(\"Chinese cities' Bleu-Grey virtual water (liter per cap/yr)\", loc = 'left');"
   ]
  },
  {
   "cell_type": "code",
   "execution_count": null,
   "id": "52f751b1-5ca4-4aa4-9c2e-0b080dc39cf9",
   "metadata": {},
   "outputs": [],
   "source": [
    "## take the dfs \n",
    "Bleu = pd.concat([Bleu_foot.get(i) for i in Bleu_foot.keys()], axis =1)\n",
    "Grey = pd.concat([Grey_foot.get(i) for i in Grey_foot.keys()], axis =1)"
   ]
  },
  {
   "cell_type": "code",
   "execution_count": null,
   "id": "09970c0d-2450-4b29-b278-7922dd3c1534",
   "metadata": {},
   "outputs": [],
   "source": [
    "Bleu = pd.concat([sectors, Bleu * 1000], axis =1)\n",
    "Grey = pd.concat([sectors, Grey * 1000], axis =1) "
   ]
  },
  {
   "cell_type": "code",
   "execution_count": null,
   "id": "b0135950-132b-4136-8c65-3fed78b6574b",
   "metadata": {},
   "outputs": [],
   "source": [
    "Bleu = Bleu.melt(id_vars = ['Sector', 'Industry_category'], var_name = 'City')\n",
    "Bleu['Type'] = 'Bleu water'\n",
    "Grey = Grey.melt(id_vars = ['Sector', 'Industry_category'], var_name = 'City')\n",
    "Grey['Type'] = 'Grey water'"
   ]
  },
  {
   "cell_type": "code",
   "execution_count": null,
   "id": "184ed9aa-8331-464a-8786-f59e8ad837d0",
   "metadata": {},
   "outputs": [],
   "source": [
    "tot = pd.concat([Bleu, Grey], axis = 0)"
   ]
  },
  {
   "cell_type": "markdown",
   "id": "461c1469-16cf-416b-b04f-1326af225b54",
   "metadata": {},
   "source": [
    "## EDA"
   ]
  },
  {
   "cell_type": "code",
   "execution_count": null,
   "id": "fd5ec605-ef57-4567-86a5-49164f0d6eda",
   "metadata": {},
   "outputs": [],
   "source": [
    "tot.head(3)"
   ]
  },
  {
   "cell_type": "code",
   "execution_count": null,
   "id": "80f63321-695a-4e37-af7c-7d156933e4dc",
   "metadata": {},
   "outputs": [],
   "source": [
    "tot.groupby(['City', 'Type']).sum().reset_index()"
   ]
  },
  {
   "cell_type": "code",
   "execution_count": null,
   "id": "82402a3e-61a7-4a38-bf5e-b5f97560131d",
   "metadata": {},
   "outputs": [],
   "source": [
    "(ggplot(tot) + geom_violin(aes(x = 'Sector', y = 'value')) + facet_wrap('~Type'))"
   ]
  },
  {
   "cell_type": "code",
   "execution_count": null,
   "id": "a8a497ae-27f6-4712-a142-a3d2952624f1",
   "metadata": {},
   "outputs": [],
   "source": [
    "(ggplot(tot.groupby(['Type', 'Sector'])['value'].mean().to_frame().reset_index(), aes('Type', 'value', fill = 'Sector'))\n",
    "    + theme_bw(base_size = 9)\n",
    "    + geom_bar(stat = 'identity', position = 'fill')\n",
    "    + coord_flip()\n",
    "    + scale_fill_brewer(type = 'qual', palette = 7)\n",
    ")"
   ]
  },
  {
   "cell_type": "code",
   "execution_count": null,
   "id": "ee7de249-a425-4525-b8cb-a318f5a80715",
   "metadata": {},
   "outputs": [],
   "source": [
    "tot"
   ]
  },
  {
   "cell_type": "code",
   "execution_count": null,
   "id": "68f741c5-383c-4521-bbfb-9b5ce0ab6577",
   "metadata": {},
   "outputs": [],
   "source": [
    "(ggplot(tot, aes('Type', 'value', fill = 'Sector'))\n",
    "    + theme_bw(base_size = 9)\n",
    "    + geom_bar(stat = 'identity', position = 'fill')\n",
    "    + coord_flip()\n",
    ")"
   ]
  },
  {
   "cell_type": "code",
   "execution_count": null,
   "id": "52d9e70a-72e3-472f-bae3-fd2acb93a76a",
   "metadata": {},
   "outputs": [],
   "source": [
    "(ggplot(tot.groupby(['Sector', 'Type', 'Industry_category'])['value'].mean().to_frame().reset_index(), aes('Industry_category', 'value', fill = 'Sector'))\n",
    "    + theme_bw(base_size = 9)\n",
    "    + geom_bar(stat = 'identity', position = 'fill')\n",
    "    + coord_flip()\n",
    "    + facet_wrap('~Type')\n",
    "    + scale_fill_brewer(type = 'qual', palette = 5)\n",
    ")"
   ]
  }
 ],
 "metadata": {
  "kernelspec": {
   "display_name": "Python 3 (ipykernel)",
   "language": "python",
   "name": "python3"
  },
  "language_info": {
   "codemirror_mode": {
    "name": "ipython",
    "version": 3
   },
   "file_extension": ".py",
   "mimetype": "text/x-python",
   "name": "python",
   "nbconvert_exporter": "python",
   "pygments_lexer": "ipython3",
   "version": "3.9.9"
  }
 },
 "nbformat": 4,
 "nbformat_minor": 5
}
