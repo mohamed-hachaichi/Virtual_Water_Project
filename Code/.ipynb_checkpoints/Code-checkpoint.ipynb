{
 "cells": [
  {
   "cell_type": "markdown",
   "id": "0341dcef",
   "metadata": {},
   "source": [
    "## Set the computations "
   ]
  },
  {
   "cell_type": "code",
   "execution_count": 1,
   "id": "e0d64294-dfd4-4fc9-aedb-f97403713822",
   "metadata": {},
   "outputs": [],
   "source": [
    "# Import modules \n",
    "import pandas as pd \n",
    "import numpy as np \n",
    "import matplotlib.pyplot as plt \n",
    "import seaborn as sns\n",
    "from plotnine import *\n",
    "%matplotlib inline "
   ]
  },
  {
   "cell_type": "code",
   "execution_count": 2,
   "id": "94b49e30-89d8-456e-8e37-6401471a0786",
   "metadata": {},
   "outputs": [],
   "source": [
    "# Set visuales \n",
    "coloors = ['#739354', '#875590', '#7dd3ec','#f5c9d0' , '#7dd3ec']"
   ]
  },
  {
   "cell_type": "code",
   "execution_count": 3,
   "id": "ef18416a-d167-4d8b-a2f9-b2b36a0a5d5c",
   "metadata": {},
   "outputs": [
    {
     "data": {
      "text/html": [
       "<div>\n",
       "<style scoped>\n",
       "    .dataframe tbody tr th:only-of-type {\n",
       "        vertical-align: middle;\n",
       "    }\n",
       "\n",
       "    .dataframe tbody tr th {\n",
       "        vertical-align: top;\n",
       "    }\n",
       "\n",
       "    .dataframe thead th {\n",
       "        text-align: right;\n",
       "    }\n",
       "</style>\n",
       "<table border=\"1\" class=\"dataframe\">\n",
       "  <thead>\n",
       "    <tr style=\"text-align: right;\">\n",
       "      <th></th>\n",
       "      <th>Sector</th>\n",
       "      <th>Industry_category</th>\n",
       "    </tr>\n",
       "  </thead>\n",
       "  <tbody>\n",
       "    <tr>\n",
       "      <th>0</th>\n",
       "      <td>Food</td>\n",
       "      <td>Primary industry</td>\n",
       "    </tr>\n",
       "    <tr>\n",
       "      <th>1</th>\n",
       "      <td>Food</td>\n",
       "      <td>Primary industry</td>\n",
       "    </tr>\n",
       "    <tr>\n",
       "      <th>2</th>\n",
       "      <td>Goods</td>\n",
       "      <td>Primary industry</td>\n",
       "    </tr>\n",
       "  </tbody>\n",
       "</table>\n",
       "</div>"
      ],
      "text/plain": [
       "  Sector Industry_category\n",
       "0   Food  Primary industry\n",
       "1   Food  Primary industry\n",
       "2  Goods  Primary industry"
      ]
     },
     "execution_count": 3,
     "metadata": {},
     "output_type": "execute_result"
    }
   ],
   "source": [
    "# read major final demand sectors \n",
    "sectors = pd.read_excel('../Data/Meta.xlsx', sheet_name = 'Data').drop('Eora_classification', axis =1)\n",
    "sec_map = {1: 'Primary industry', 21 : 'Light manufacturing',23 : 'Heavey manufacturing', 3 : 'Tertiary industry' }\n",
    "sectors['Industry_category'] = sectors['Industry_category'].map(sec_map)\n",
    "sectors.head(3)"
   ]
  },
  {
   "cell_type": "markdown",
   "id": "cb168d5e-0851-47c8-9717-712c6377b39c",
   "metadata": {},
   "source": [
    "## 1. CES data"
   ]
  },
  {
   "cell_type": "code",
   "execution_count": 4,
   "id": "2a74c1ca-a109-4bdf-b398-e79cb0f8defb",
   "metadata": {},
   "outputs": [
    {
     "data": {
      "text/html": [
       "<div>\n",
       "<style scoped>\n",
       "    .dataframe tbody tr th:only-of-type {\n",
       "        vertical-align: middle;\n",
       "    }\n",
       "\n",
       "    .dataframe tbody tr th {\n",
       "        vertical-align: top;\n",
       "    }\n",
       "\n",
       "    .dataframe thead th {\n",
       "        text-align: right;\n",
       "    }\n",
       "</style>\n",
       "<table border=\"1\" class=\"dataframe\">\n",
       "  <thead>\n",
       "    <tr style=\"text-align: right;\">\n",
       "      <th></th>\n",
       "      <th>Category</th>\n",
       "      <th>Country iso3</th>\n",
       "      <th>0</th>\n",
       "      <th>1</th>\n",
       "      <th>2</th>\n",
       "      <th>3</th>\n",
       "      <th>4</th>\n",
       "      <th>5</th>\n",
       "      <th>6</th>\n",
       "      <th>7</th>\n",
       "      <th>...</th>\n",
       "      <th>16</th>\n",
       "      <th>17</th>\n",
       "      <th>18</th>\n",
       "      <th>19</th>\n",
       "      <th>20</th>\n",
       "      <th>21</th>\n",
       "      <th>22</th>\n",
       "      <th>23</th>\n",
       "      <th>24</th>\n",
       "      <th>25</th>\n",
       "    </tr>\n",
       "    <tr>\n",
       "      <th>City</th>\n",
       "      <th></th>\n",
       "      <th></th>\n",
       "      <th></th>\n",
       "      <th></th>\n",
       "      <th></th>\n",
       "      <th></th>\n",
       "      <th></th>\n",
       "      <th></th>\n",
       "      <th></th>\n",
       "      <th></th>\n",
       "      <th></th>\n",
       "      <th></th>\n",
       "      <th></th>\n",
       "      <th></th>\n",
       "      <th></th>\n",
       "      <th></th>\n",
       "      <th></th>\n",
       "      <th></th>\n",
       "      <th></th>\n",
       "      <th></th>\n",
       "      <th></th>\n",
       "    </tr>\n",
       "  </thead>\n",
       "  <tbody>\n",
       "    <tr>\n",
       "      <th>Abidjan</th>\n",
       "      <td>LMIC</td>\n",
       "      <td>CIV</td>\n",
       "      <td>0.0</td>\n",
       "      <td>0.0</td>\n",
       "      <td>0.0</td>\n",
       "      <td>356.394219</td>\n",
       "      <td>45.330338</td>\n",
       "      <td>0.0</td>\n",
       "      <td>0.0</td>\n",
       "      <td>0.0</td>\n",
       "      <td>...</td>\n",
       "      <td>0.0</td>\n",
       "      <td>0.000000</td>\n",
       "      <td>89.879362</td>\n",
       "      <td>51.582868</td>\n",
       "      <td>0.0</td>\n",
       "      <td>0.0</td>\n",
       "      <td>24.305724</td>\n",
       "      <td>0.0</td>\n",
       "      <td>61.741964</td>\n",
       "      <td>0.0</td>\n",
       "    </tr>\n",
       "    <tr>\n",
       "      <th>Addu</th>\n",
       "      <td>UMIC</td>\n",
       "      <td>MDV</td>\n",
       "      <td>0.0</td>\n",
       "      <td>0.0</td>\n",
       "      <td>0.0</td>\n",
       "      <td>813.932292</td>\n",
       "      <td>116.276042</td>\n",
       "      <td>0.0</td>\n",
       "      <td>0.0</td>\n",
       "      <td>0.0</td>\n",
       "      <td>...</td>\n",
       "      <td>0.0</td>\n",
       "      <td>116.276042</td>\n",
       "      <td>377.864583</td>\n",
       "      <td>232.552083</td>\n",
       "      <td>0.0</td>\n",
       "      <td>0.0</td>\n",
       "      <td>436.002604</td>\n",
       "      <td>0.0</td>\n",
       "      <td>174.414062</td>\n",
       "      <td>0.0</td>\n",
       "    </tr>\n",
       "    <tr>\n",
       "      <th>Agneby-Tiassa</th>\n",
       "      <td>LMIC</td>\n",
       "      <td>CIV</td>\n",
       "      <td>0.0</td>\n",
       "      <td>0.0</td>\n",
       "      <td>0.0</td>\n",
       "      <td>327.301433</td>\n",
       "      <td>44.229212</td>\n",
       "      <td>0.0</td>\n",
       "      <td>0.0</td>\n",
       "      <td>0.0</td>\n",
       "      <td>...</td>\n",
       "      <td>0.0</td>\n",
       "      <td>0.000000</td>\n",
       "      <td>110.171241</td>\n",
       "      <td>58.703749</td>\n",
       "      <td>0.0</td>\n",
       "      <td>0.0</td>\n",
       "      <td>59.507327</td>\n",
       "      <td>0.0</td>\n",
       "      <td>6.641163</td>\n",
       "      <td>0.0</td>\n",
       "    </tr>\n",
       "  </tbody>\n",
       "</table>\n",
       "<p>3 rows × 28 columns</p>\n",
       "</div>"
      ],
      "text/plain": [
       "              Category Country iso3    0    1    2           3           4  \\\n",
       "City                                                                         \n",
       "Abidjan           LMIC          CIV  0.0  0.0  0.0  356.394219   45.330338   \n",
       "Addu              UMIC          MDV  0.0  0.0  0.0  813.932292  116.276042   \n",
       "Agneby-Tiassa     LMIC          CIV  0.0  0.0  0.0  327.301433   44.229212   \n",
       "\n",
       "                 5    6    7  ...   16          17          18          19  \\\n",
       "City                          ...                                            \n",
       "Abidjan        0.0  0.0  0.0  ...  0.0    0.000000   89.879362   51.582868   \n",
       "Addu           0.0  0.0  0.0  ...  0.0  116.276042  377.864583  232.552083   \n",
       "Agneby-Tiassa  0.0  0.0  0.0  ...  0.0    0.000000  110.171241   58.703749   \n",
       "\n",
       "                20   21          22   23          24   25  \n",
       "City                                                       \n",
       "Abidjan        0.0  0.0   24.305724  0.0   61.741964  0.0  \n",
       "Addu           0.0  0.0  436.002604  0.0  174.414062  0.0  \n",
       "Agneby-Tiassa  0.0  0.0   59.507327  0.0    6.641163  0.0  \n",
       "\n",
       "[3 rows x 28 columns]"
      ]
     },
     "execution_count": 4,
     "metadata": {},
     "output_type": "execute_result"
    }
   ],
   "source": [
    "# Set general path \n",
    "ces_path = '../Data/CES/'\n",
    "# Read the CES data \n",
    "y = pd.read_csv(ces_path + 'urban.ces.csv', index_col = 'City')\n",
    "y.head(3)"
   ]
  },
  {
   "cell_type": "markdown",
   "id": "492cc1d2",
   "metadata": {},
   "source": [
    "## 2. Compute the TIV ($F$)"
   ]
  },
  {
   "cell_type": "markdown",
   "id": "cc6d8164-eebe-4f9e-af29-136807474c80",
   "metadata": {},
   "source": [
    "For this anlysis we're using [Eora26](https://worldmrio.com/eora26/) (v199.82)"
   ]
  },
  {
   "cell_type": "code",
   "execution_count": 5,
   "id": "8ad14ca3-22ab-4322-a1d8-9c34b584fbf8",
   "metadata": {},
   "outputs": [],
   "source": [
    "# Read modules \n",
    "import numpy as np\n",
    "import pandas as pd\n",
    "import os\n",
    "import re"
   ]
  },
  {
   "cell_type": "markdown",
   "id": "f06d0afa",
   "metadata": {},
   "source": [
    "We need to compute the the Total Intensity Vector $(F)$ for these countries: *['CIV', 'MDV', 'MEX', 'DZA', 'LKA', 'CHN', 'BGD', 'ALB', 'ZWE','EGY', 'ZAF', 'MAR', 'NAM', 'BWA', 'VNM', 'ZMB', 'MNE', 'ASM', 'CRI', 'GEO', 'TUN']*\n",
    "\n",
    "To compute the the TIF, we need to preform the following operations: \n",
    "- compute the Xout \n",
    "- compute the direct intensity vector (f) \n",
    "- comput technical coefficient matrix\n",
    "- compute Wassily Leontief inverse \n",
    "- compute the Total intesnity verctor "
   ]
  },
  {
   "cell_type": "code",
   "execution_count": 26,
   "id": "9287b684-a5ec-43cd-9017-1bb1a1689e45",
   "metadata": {},
   "outputs": [
    {
     "name": "stdout",
     "output_type": "stream",
     "text": [
      " \n",
      " i == Eora26_2009_bp \n",
      "\n",
      "m == Eora26_2009_bp_FD.txt\n",
      "m == Eora26_2009_bp_Q.txt\n",
      "m == Eora26_2009_bp_QY.txt\n",
      "m == Eora26_2009_bp_T.txt\n",
      "m == Eora26_2009_bp_VA.txt\n",
      " \n",
      " i == Eora26_2010_bp \n",
      "\n",
      "m == Eora26_2010_bp_FD.txt\n",
      "m == Eora26_2010_bp_Q.txt\n",
      "m == Eora26_2010_bp_QY.txt\n",
      "m == Eora26_2010_bp_T.txt\n",
      "m == Eora26_2010_bp_VA.txt\n",
      " \n",
      " i == Eora26_2011_bp \n",
      "\n",
      "m == Eora26_2011_bp_FD.txt\n",
      "m == Eora26_2011_bp_Q.txt\n",
      "m == Eora26_2011_bp_QY.txt\n",
      "m == Eora26_2011_bp_T.txt\n",
      "m == Eora26_2011_bp_VA.txt\n",
      " \n",
      " i == Eora26_2012_bp \n",
      "\n",
      "m == Eora26_2012_bp_FD.txt\n",
      "m == Eora26_2012_bp_Q.txt\n",
      "m == Eora26_2012_bp_QY.txt\n",
      "m == Eora26_2012_bp_T.txt\n",
      "m == Eora26_2012_bp_VA.txt\n",
      " \n",
      " i == Eora26_2013_bp \n",
      "\n",
      "m == Eora26_2013_bp_FD.txt\n",
      "m == Eora26_2013_bp_Q.txt\n",
      "m == Eora26_2013_bp_QY.txt\n",
      "m == Eora26_2013_bp_T.txt\n",
      "m == Eora26_2013_bp_VA.txt\n",
      " \n",
      " i == Eora26_2014_bp \n",
      "\n",
      "m == Eora26_2014_bp_FD.txt\n",
      "m == Eora26_2014_bp_Q.txt\n",
      "m == Eora26_2014_bp_QY.txt\n",
      "m == Eora26_2014_bp_T.txt\n",
      "m == Eora26_2014_bp_VA.txt\n",
      " \n",
      " i == Eora26_2015_bp \n",
      "\n",
      "m == Eora26_2015_bp_FD.txt\n",
      "m == Eora26_2015_bp_Q.txt\n",
      "m == Eora26_2015_bp_QY.txt\n",
      "m == Eora26_2015_bp_T.txt\n",
      "m == Eora26_2015_bp_VA.txt\n"
     ]
    }
   ],
   "source": [
    "# set paths \n",
    "bp_path = '../Data/Eora/Eora_BP/'\n",
    "\n",
    "# Read the index \n",
    "index = [file for file in os.listdir(bp_path)]\n",
    "index\n",
    "\n",
    "containers = {}\n",
    "for i in index:\n",
    "    path = [file for file in os.listdir(bp_path + i) if any(map(str.isdigit, file))]\n",
    "    print(f' \\n i == {i} \\n')\n",
    "    container = {}\n",
    "    containers[i] = container\n",
    "    for m in path:\n",
    "        print(f'm == {m}')\n",
    "        read = pd.read_csv(bp_path + i + '/' + m, delimiter = '\\t', header = None)\n",
    "        container[m.split('_')[-1].split('.')[0]] = read"
   ]
  },
  {
   "cell_type": "code",
   "execution_count": 27,
   "id": "fff7c624-3a82-4397-9042-91e2efd1f626",
   "metadata": {},
   "outputs": [
    {
     "name": "stdout",
     "output_type": "stream",
     "text": [
      "BB values\n",
      "---\n",
      "Eora26_2009_bp\n",
      "---\n",
      "---\n",
      "Eora26_2010_bp\n",
      "---\n",
      "---\n",
      "Eora26_2011_bp\n",
      "---\n",
      "---\n",
      "Eora26_2012_bp\n",
      "---\n",
      "---\n",
      "Eora26_2013_bp\n",
      "---\n",
      "---\n",
      "Eora26_2014_bp\n",
      "---\n",
      "---\n",
      "Eora26_2015_bp\n",
      "---\n"
     ]
    }
   ],
   "source": [
    "# get the xout for the basic prices and purchaser prices \n",
    "\n",
    "BP = {}\n",
    "print('BB values')\n",
    "# set the computation code \n",
    "for i in containers.keys():\n",
    "    # print('---')\n",
    "    # print(i)\n",
    "    # print('---')\n",
    "    for m in containers.get(i):\n",
    "        \"\"\" interate over the dic and return the xout for each years\"\"\"\n",
    "        np.seterr(divide='ignore', invalid='ignore')\n",
    "        xout = np.empty((4915,1))\n",
    "        np.add(np.add.reduce(np.array(containers.get(i).get('T')), axis =1)[:, np.newaxis], np.add.reduce(np.array(containers.get(i).get('FD')), axis =1)[:, np.newaxis], out = xout)\n",
    "        BP[i.split('_')[1]] = xout"
   ]
  },
  {
   "cell_type": "code",
   "execution_count": 35,
   "id": "e808e2a6-47f8-4feb-91f5-7297efb68e6a",
   "metadata": {},
   "outputs": [
    {
     "name": "stdout",
     "output_type": "stream",
     "text": [
      " \n",
      " i == Eora26_2009_pp \n",
      "\n",
      "m == Eora26_2009_pp_FD.txt\n",
      "m == Eora26_2009_pp_Q.txt\n",
      "m == Eora26_2009_pp_QY.txt\n",
      "m == Eora26_2009_pp_T.txt\n",
      "m == Eora26_2009_pp_VA.txt\n",
      " \n",
      " i == Eora26_2010_pp \n",
      "\n",
      "m == Eora26_2010_pp_FD.txt\n",
      "m == Eora26_2010_pp_Q.txt\n",
      "m == Eora26_2010_pp_QY.txt\n",
      "m == Eora26_2010_pp_T.txt\n",
      "m == Eora26_2010_pp_VA.txt\n",
      " \n",
      " i == Eora26_2011_pp \n",
      "\n",
      "m == Eora26_2011_pp_FD.txt\n",
      "m == Eora26_2011_pp_Q.txt\n",
      "m == Eora26_2011_pp_QY.txt\n",
      "m == Eora26_2011_pp_T.txt\n",
      "m == Eora26_2011_pp_VA.txt\n",
      " \n",
      " i == Eora26_2012_pp \n",
      "\n",
      "m == Eora26_2012_pp_FD.txt\n",
      "m == Eora26_2012_pp_Q.txt\n",
      "m == Eora26_2012_pp_QY.txt\n",
      "m == Eora26_2012_pp_T.txt\n",
      "m == Eora26_2012_pp_VA.txt\n",
      " \n",
      " i == Eora26_2013_pp \n",
      "\n",
      "m == Eora26_2013_pp_FD.txt\n",
      "m == Eora26_2013_pp_Q.txt\n",
      "m == Eora26_2013_pp_QY.txt\n",
      "m == Eora26_2013_pp_T.txt\n",
      "m == Eora26_2013_pp_VA.txt\n",
      " \n",
      " i == Eora26_2014_pp \n",
      "\n",
      "m == Eora26_2014_pp_FD.txt\n",
      "m == Eora26_2014_pp_Q.txt\n",
      "m == Eora26_2014_pp_QY.txt\n",
      "m == Eora26_2014_pp_T.txt\n",
      "m == Eora26_2014_pp_VA.txt\n",
      " \n",
      " i == Eora26_2015_pp \n",
      "\n",
      "m == Eora26_2015_pp_FD.txt\n",
      "m == Eora26_2015_pp_Q.txt\n",
      "m == Eora26_2015_pp_QY.txt\n",
      "m == Eora26_2015_pp_T.txt\n",
      "m == Eora26_2015_pp_VA.txt\n"
     ]
    }
   ],
   "source": [
    "### read the tables in PP \n",
    "\n",
    "# set paths \n",
    "pp_path = '../Data/Eora/Eora_PP/'\n",
    "\n",
    "# Read the index \n",
    "dex = [file for file in os.listdir(pp_path)]\n",
    "\n",
    "conts = {}\n",
    "for i in dex:\n",
    "    path = [file for file in os.listdir(pp_path + i) if any(map(str.isdigit, file))]\n",
    "    print(f' \\n i == {i} \\n')\n",
    "    container = {}\n",
    "    conts[i] = container\n",
    "    for m in path:\n",
    "        print(f'm == {m}')\n",
    "        read = pd.read_csv(pp_path + i + '/' + m, delimiter = '\\t', header = None)\n",
    "        conts[m.split('_')[-1].split('.')[0]] = read"
   ]
  },
  {
   "cell_type": "code",
   "execution_count": 40,
   "id": "163eb04e-c89f-45e4-b830-2c112356a799",
   "metadata": {},
   "outputs": [
    {
     "data": {
      "text/plain": [
       "dict_keys(['Eora26_2009_bp', 'Eora26_2010_bp', 'Eora26_2011_bp', 'Eora26_2012_bp', 'Eora26_2013_bp', 'Eora26_2014_bp', 'Eora26_2015_bp'])"
      ]
     },
     "execution_count": 40,
     "metadata": {},
     "output_type": "execute_result"
    }
   ],
   "source": [
    "containers.keys()"
   ]
  },
  {
   "cell_type": "code",
   "execution_count": 39,
   "id": "27a1e5ce-62bb-41ac-a7a8-1e9b45811eb5",
   "metadata": {},
   "outputs": [
    {
     "data": {
      "text/plain": [
       "dict_keys(['Eora26_2009_pp', 'FD', 'Q', 'QY', 'T', 'VA', 'Eora26_2010_pp', 'Eora26_2011_pp', 'Eora26_2012_pp', 'Eora26_2013_pp', 'Eora26_2014_pp', 'Eora26_2015_pp'])"
      ]
     },
     "execution_count": 39,
     "metadata": {},
     "output_type": "execute_result"
    }
   ],
   "source": [
    "conts.keys()"
   ]
  },
  {
   "cell_type": "code",
   "execution_count": 36,
   "id": "eeec5dda-9e49-4aeb-ba94-402a9f3bdc74",
   "metadata": {},
   "outputs": [
    {
     "name": "stdout",
     "output_type": "stream",
     "text": [
      "PP values\n",
      "---\n",
      "Eora26_2009_pp\n",
      "---\n",
      "---\n",
      "FD\n",
      "---\n"
     ]
    },
    {
     "ename": "AxisError",
     "evalue": "axis 1 is out of bounds for array of dimension 0",
     "output_type": "error",
     "traceback": [
      "\u001b[1;31m---------------------------------------------------------------------------\u001b[0m",
      "\u001b[1;31mAxisError\u001b[0m                                 Traceback (most recent call last)",
      "\u001b[1;32mC:\\Users\\MHACHA~1\\AppData\\Local\\Temp/ipykernel_13204/1094490066.py\u001b[0m in \u001b[0;36m<module>\u001b[1;34m\u001b[0m\n\u001b[0;32m     10\u001b[0m         \u001b[0mnp\u001b[0m\u001b[1;33m.\u001b[0m\u001b[0mseterr\u001b[0m\u001b[1;33m(\u001b[0m\u001b[0mdivide\u001b[0m\u001b[1;33m=\u001b[0m\u001b[1;34m'ignore'\u001b[0m\u001b[1;33m,\u001b[0m \u001b[0minvalid\u001b[0m\u001b[1;33m=\u001b[0m\u001b[1;34m'ignore'\u001b[0m\u001b[1;33m)\u001b[0m\u001b[1;33m\u001b[0m\u001b[1;33m\u001b[0m\u001b[0m\n\u001b[0;32m     11\u001b[0m         \u001b[0mxout\u001b[0m \u001b[1;33m=\u001b[0m \u001b[0mnp\u001b[0m\u001b[1;33m.\u001b[0m\u001b[0mempty\u001b[0m\u001b[1;33m(\u001b[0m\u001b[1;33m(\u001b[0m\u001b[1;36m4915\u001b[0m\u001b[1;33m,\u001b[0m\u001b[1;36m1\u001b[0m\u001b[1;33m)\u001b[0m\u001b[1;33m)\u001b[0m\u001b[1;33m\u001b[0m\u001b[1;33m\u001b[0m\u001b[0m\n\u001b[1;32m---> 12\u001b[1;33m         \u001b[0mnp\u001b[0m\u001b[1;33m.\u001b[0m\u001b[0madd\u001b[0m\u001b[1;33m(\u001b[0m\u001b[0mnp\u001b[0m\u001b[1;33m.\u001b[0m\u001b[0madd\u001b[0m\u001b[1;33m.\u001b[0m\u001b[0mreduce\u001b[0m\u001b[1;33m(\u001b[0m\u001b[0mnp\u001b[0m\u001b[1;33m.\u001b[0m\u001b[0marray\u001b[0m\u001b[1;33m(\u001b[0m\u001b[0mconts\u001b[0m\u001b[1;33m.\u001b[0m\u001b[0mget\u001b[0m\u001b[1;33m(\u001b[0m\u001b[0mi\u001b[0m\u001b[1;33m)\u001b[0m\u001b[1;33m.\u001b[0m\u001b[0mget\u001b[0m\u001b[1;33m(\u001b[0m\u001b[1;34m'T'\u001b[0m\u001b[1;33m)\u001b[0m\u001b[1;33m)\u001b[0m\u001b[1;33m,\u001b[0m \u001b[0maxis\u001b[0m \u001b[1;33m=\u001b[0m\u001b[1;36m1\u001b[0m\u001b[1;33m)\u001b[0m\u001b[1;33m[\u001b[0m\u001b[1;33m:\u001b[0m\u001b[1;33m,\u001b[0m \u001b[0mnp\u001b[0m\u001b[1;33m.\u001b[0m\u001b[0mnewaxis\u001b[0m\u001b[1;33m]\u001b[0m\u001b[1;33m,\u001b[0m \u001b[0mnp\u001b[0m\u001b[1;33m.\u001b[0m\u001b[0madd\u001b[0m\u001b[1;33m.\u001b[0m\u001b[0mreduce\u001b[0m\u001b[1;33m(\u001b[0m\u001b[0mnp\u001b[0m\u001b[1;33m.\u001b[0m\u001b[0marray\u001b[0m\u001b[1;33m(\u001b[0m\u001b[0mconts\u001b[0m\u001b[1;33m.\u001b[0m\u001b[0mget\u001b[0m\u001b[1;33m(\u001b[0m\u001b[0mi\u001b[0m\u001b[1;33m)\u001b[0m\u001b[1;33m.\u001b[0m\u001b[0mget\u001b[0m\u001b[1;33m(\u001b[0m\u001b[1;34m'FD'\u001b[0m\u001b[1;33m)\u001b[0m\u001b[1;33m)\u001b[0m\u001b[1;33m,\u001b[0m \u001b[0maxis\u001b[0m \u001b[1;33m=\u001b[0m\u001b[1;36m1\u001b[0m\u001b[1;33m)\u001b[0m\u001b[1;33m[\u001b[0m\u001b[1;33m:\u001b[0m\u001b[1;33m,\u001b[0m \u001b[0mnp\u001b[0m\u001b[1;33m.\u001b[0m\u001b[0mnewaxis\u001b[0m\u001b[1;33m]\u001b[0m\u001b[1;33m,\u001b[0m \u001b[0mout\u001b[0m \u001b[1;33m=\u001b[0m \u001b[0mxout\u001b[0m\u001b[1;33m)\u001b[0m\u001b[1;33m\u001b[0m\u001b[1;33m\u001b[0m\u001b[0m\n\u001b[0m\u001b[0;32m     13\u001b[0m         \u001b[0mPP\u001b[0m\u001b[1;33m[\u001b[0m\u001b[0mi\u001b[0m\u001b[1;33m.\u001b[0m\u001b[0msplit\u001b[0m\u001b[1;33m(\u001b[0m\u001b[1;34m'_'\u001b[0m\u001b[1;33m)\u001b[0m\u001b[1;33m[\u001b[0m\u001b[1;36m1\u001b[0m\u001b[1;33m]\u001b[0m\u001b[1;33m]\u001b[0m \u001b[1;33m=\u001b[0m \u001b[0mxout\u001b[0m\u001b[1;33m\u001b[0m\u001b[1;33m\u001b[0m\u001b[0m\n",
      "\u001b[1;31mAxisError\u001b[0m: axis 1 is out of bounds for array of dimension 0"
     ]
    }
   ],
   "source": [
    "PP = {}\n",
    "print('PP values')\n",
    "# set the computation code \n",
    "for i in conts.keys():\n",
    "    print('---')\n",
    "    print(i)\n",
    "    print('---')\n",
    "    for m in conts.get(i):\n",
    "        \"\"\" interate over the dic and return the TIV for each of the years\"\"\"\n",
    "        np.seterr(divide='ignore', invalid='ignore')\n",
    "        xout = np.empty((4915,1))\n",
    "        np.add(np.add.reduce(np.array(conts.get(i).get('T')), axis =1)[:, np.newaxis], np.add.reduce(np.array(conts.get(i).get('FD')), axis =1)[:, np.newaxis], out = xout)\n",
    "        PP[i.split('_')[1]] = xout"
   ]
  },
  {
   "cell_type": "code",
   "execution_count": null,
   "id": "adf90e96-a13f-4fc9-a91e-30b79aa5e4b4",
   "metadata": {},
   "outputs": [],
   "source": [
    "# compte the fraction PP/BP\n",
    "\n"
   ]
  },
  {
   "cell_type": "code",
   "execution_count": 7,
   "id": "8a750535-a9a3-47f8-b717-5b4fe145eb10",
   "metadata": {},
   "outputs": [
    {
     "data": {
      "text/plain": [
       "0       WFN: Total water footprint (Mm3/yr) - Grey\n",
       "1                                            Total\n",
       "2                                              NaN\n",
       "0                                            335.7\n",
       "1                                          0.25441\n",
       "                           ...                    \n",
       "4910                                        22.022\n",
       "4911                                           0.0\n",
       "4912                                           0.0\n",
       "4913                                           0.0\n",
       "4914                                             0\n",
       "Name: 2501, Length: 4918, dtype: object"
      ]
     },
     "execution_count": 7,
     "metadata": {},
     "output_type": "execute_result"
    }
   ],
   "source": [
    "## check the Q-values index\n",
    "Q = pd.read_csv('../Data/Eora/Eora_BP/Eora26_2009_bp/Eora26_2009_bp_Q.txt', delimiter = '\\t', header = None)\n",
    "I = pd.read_csv('../Data/Eora/Eora_BP/Eora26_2009_bp/labels_Q.txt', delimiter = '\\t', header = None)\n",
    "lo = pd.concat([I, Q], axis = 1)\n",
    "lo.iloc[2501,]"
   ]
  },
  {
   "cell_type": "code",
   "execution_count": 8,
   "id": "941d31c1-e696-4113-bc0c-db3220ed82bd",
   "metadata": {},
   "outputs": [
    {
     "name": "stdout",
     "output_type": "stream",
     "text": [
      "Blue water footprint\n"
     ]
    }
   ],
   "source": [
    "Blue = {}\n",
    "print('Blue water footprint')\n",
    "# set the computation code \n",
    "for i in containers.keys():\n",
    "    # print('---')\n",
    "    # print(i)\n",
    "    # print('---')\n",
    "    for m in containers.get(i):\n",
    "        \"\"\" interate over the dic and return the TIV for each of the years\"\"\"\n",
    "        np.seterr(divide='ignore', invalid='ignore')\n",
    "        xout = np.empty((4915,1))\n",
    "        np.add(np.add.reduce(np.array(containers.get(i).get('T')), axis =1)[:, np.newaxis], np.add.reduce(np.array(containers.get(i).get('FD')), axis =1)[:, np.newaxis], out = xout)\n",
    "        # compute direct intensity vector (f) \n",
    "        f = np.zeros_like(xout)\n",
    "        np.divide(np.array(containers.get(i).get('Q'))[2500,:][:, np.newaxis], xout, out=f, where= xout != 0)\n",
    "        # comput technical coefficient matrix \n",
    "        A = np.empty((4915, 4915))\n",
    "        np.divide(containers.get(i).get('T'), xout, out = A)\n",
    "        A = np.array(pd.DataFrame(A).fillna(0))\n",
    "        # creating identity matrix \n",
    "        I = np.eye(4915)\n",
    "        # compute the Wassily Leontief inverse \n",
    "        L = np.linalg.inv((I - A)) \n",
    "        # compute the Total intesnity verctor \n",
    "        F = L.dot(f)\n",
    "        Blue[i.split('_')[1]] = F"
   ]
  },
  {
   "cell_type": "code",
   "execution_count": 9,
   "id": "f890a126-3607-4d06-aeb8-51087bbc8303",
   "metadata": {},
   "outputs": [
    {
     "name": "stdout",
     "output_type": "stream",
     "text": [
      "Grey water footprint\n",
      "---\n",
      "Eora26_2009_bp\n",
      "---\n",
      "---\n",
      "Eora26_2010_bp\n",
      "---\n",
      "---\n",
      "Eora26_2011_bp\n",
      "---\n",
      "---\n",
      "Eora26_2012_bp\n",
      "---\n",
      "---\n",
      "Eora26_2013_bp\n",
      "---\n",
      "---\n",
      "Eora26_2014_bp\n",
      "---\n",
      "---\n",
      "Eora26_2015_bp\n",
      "---\n"
     ]
    }
   ],
   "source": [
    "Grey = {}\n",
    "# set the computation code \n",
    "print('Grey water footprint')\n",
    "for i in containers.keys():\n",
    "    print('---')\n",
    "    print(i)\n",
    "    print('---')\n",
    "    for m in containers.get(i):\n",
    "        \"\"\" interate over the dic and return the TIV for each of the years\"\"\"\n",
    "        np.seterr(divide='ignore', invalid='ignore')\n",
    "        xout = np.empty((4915,1))\n",
    "        np.add(np.add.reduce(np.array(containers.get(i).get('T')), axis =1)[:, np.newaxis], np.add.reduce(np.array(containers.get(i).get('FD')), axis =1)[:, np.newaxis], out = xout)\n",
    "        # compute direct intensity vector (f) \n",
    "        f = np.zeros_like(xout)\n",
    "        np.divide(np.array(containers.get(i).get('Q'))[2501,:][:, np.newaxis], xout, out=f, where= xout != 0)\n",
    "        # comput technical coefficient matrix \n",
    "        A = np.empty((4915, 4915))\n",
    "        np.divide(containers.get(i).get('T'), xout, out = A)\n",
    "        A = np.array(pd.DataFrame(A).fillna(0))\n",
    "        # creating identity matrix \n",
    "        I = np.eye(4915)\n",
    "        # compute the Wassily Leontief inverse \n",
    "        L = np.linalg.inv((I - A)) \n",
    "        # compute the Total intesnity verctor \n",
    "        F = L.dot(f)\n",
    "        Grey[i.split('_')[1]] = F"
   ]
  },
  {
   "cell_type": "code",
   "execution_count": 10,
   "id": "f631ce8a-3306-404e-aa3b-45e837f300f6",
   "metadata": {},
   "outputs": [
    {
     "data": {
      "text/html": [
       "<div>\n",
       "<style scoped>\n",
       "    .dataframe tbody tr th:only-of-type {\n",
       "        vertical-align: middle;\n",
       "    }\n",
       "\n",
       "    .dataframe tbody tr th {\n",
       "        vertical-align: top;\n",
       "    }\n",
       "\n",
       "    .dataframe thead th {\n",
       "        text-align: right;\n",
       "    }\n",
       "</style>\n",
       "<table border=\"1\" class=\"dataframe\">\n",
       "  <thead>\n",
       "    <tr style=\"text-align: right;\">\n",
       "      <th></th>\n",
       "      <th>country</th>\n",
       "      <th>iso3</th>\n",
       "      <th>industries</th>\n",
       "      <th>sector</th>\n",
       "    </tr>\n",
       "  </thead>\n",
       "  <tbody>\n",
       "    <tr>\n",
       "      <th>0</th>\n",
       "      <td>Afghanistan</td>\n",
       "      <td>AFG</td>\n",
       "      <td>Industries</td>\n",
       "      <td>Agriculture</td>\n",
       "    </tr>\n",
       "    <tr>\n",
       "      <th>1</th>\n",
       "      <td>Afghanistan</td>\n",
       "      <td>AFG</td>\n",
       "      <td>Industries</td>\n",
       "      <td>Fishing</td>\n",
       "    </tr>\n",
       "    <tr>\n",
       "      <th>2</th>\n",
       "      <td>Afghanistan</td>\n",
       "      <td>AFG</td>\n",
       "      <td>Industries</td>\n",
       "      <td>Mining and Quarrying</td>\n",
       "    </tr>\n",
       "  </tbody>\n",
       "</table>\n",
       "</div>"
      ],
      "text/plain": [
       "       country iso3  industries                sector\n",
       "0  Afghanistan  AFG  Industries           Agriculture\n",
       "1  Afghanistan  AFG  Industries               Fishing\n",
       "2  Afghanistan  AFG  Industries  Mining and Quarrying"
      ]
     },
     "execution_count": 10,
     "metadata": {},
     "output_type": "execute_result"
    }
   ],
   "source": [
    "## import the index of countries & sectors \n",
    "index = pd.read_csv('../Data/Eora/Eora_BP/Eora26_2009_bp/labels_T.txt', delimiter = '\\t', header = None).iloc[:,:-1]\n",
    "index.columns = ['country', 'iso3', 'industries', 'sector']\n",
    "index.head(3)"
   ]
  },
  {
   "cell_type": "code",
   "execution_count": 11,
   "id": "d98540b0-01e1-4471-aaca-87b76928b32c",
   "metadata": {},
   "outputs": [],
   "source": [
    "## add the countries and the sectors names \n",
    "for i in Blue.keys():\n",
    "    Blue[i] = pd.concat([index, pd.DataFrame(Blue.get(i))], axis = 1)\n",
    "    \n",
    "for i in Grey.keys():\n",
    "    Grey[i] = pd.concat([index, pd.DataFrame(Grey.get(i))], axis = 1)   "
   ]
  },
  {
   "cell_type": "code",
   "execution_count": 12,
   "id": "290971a7-1faf-4ca2-998d-8a954be6f026",
   "metadata": {},
   "outputs": [
    {
     "data": {
      "text/html": [
       "<div>\n",
       "<style scoped>\n",
       "    .dataframe tbody tr th:only-of-type {\n",
       "        vertical-align: middle;\n",
       "    }\n",
       "\n",
       "    .dataframe tbody tr th {\n",
       "        vertical-align: top;\n",
       "    }\n",
       "\n",
       "    .dataframe thead th {\n",
       "        text-align: right;\n",
       "    }\n",
       "</style>\n",
       "<table border=\"1\" class=\"dataframe\">\n",
       "  <thead>\n",
       "    <tr style=\"text-align: right;\">\n",
       "      <th></th>\n",
       "      <th>country</th>\n",
       "      <th>Eora_country</th>\n",
       "      <th>Year</th>\n",
       "    </tr>\n",
       "  </thead>\n",
       "  <tbody>\n",
       "    <tr>\n",
       "      <th>0</th>\n",
       "      <td>Algeria</td>\n",
       "      <td>DZA</td>\n",
       "      <td>2011</td>\n",
       "    </tr>\n",
       "    <tr>\n",
       "      <th>1</th>\n",
       "      <td>Tunisia</td>\n",
       "      <td>TUN</td>\n",
       "      <td>2010</td>\n",
       "    </tr>\n",
       "    <tr>\n",
       "      <th>2</th>\n",
       "      <td>Morocco</td>\n",
       "      <td>MAR</td>\n",
       "      <td>2014</td>\n",
       "    </tr>\n",
       "  </tbody>\n",
       "</table>\n",
       "</div>"
      ],
      "text/plain": [
       "   country Eora_country  Year\n",
       "0  Algeria          DZA  2011\n",
       "1  Tunisia          TUN  2010\n",
       "2  Morocco          MAR  2014"
      ]
     },
     "execution_count": 12,
     "metadata": {},
     "output_type": "execute_result"
    }
   ],
   "source": [
    "# get the TIV for each country & year \n",
    "info = pd.read_csv('../infos.csv')\n",
    "info.head(3)"
   ]
  },
  {
   "cell_type": "code",
   "execution_count": 13,
   "id": "150e9dd4-b8bd-4217-849a-7f1e8d0d5cda",
   "metadata": {},
   "outputs": [],
   "source": [
    "## get the data for each year & country \n",
    "Bleu_F = {}\n",
    "for i in info['Eora_country'].unique():\n",
    "    Year = info[info['Eora_country'] == i].Year.item()\n",
    "    Bleu_F[i] = Blue.get(f\"{Year}\").query(f'iso3 == \"{i}\"')[['iso3', 'sector', 0]]\n",
    "    \n",
    "Grey_F = {}\n",
    "for i in info['Eora_country'].unique():\n",
    "    Year = info[info['Eora_country'] == i].Year.item()\n",
    "    Grey_F[i] = Grey.get(f\"{Year}\").query(f'iso3 == \"{i}\"')[['iso3', 'sector', 0]]"
   ]
  },
  {
   "cell_type": "code",
   "execution_count": 14,
   "id": "3d365206-5b02-4474-a713-1ca44b970d0b",
   "metadata": {},
   "outputs": [],
   "source": [
    "## get the footprints \n",
    "\n",
    "Bleu_foot = {}\n",
    "\n",
    "for name in Bleu_F.keys(): \n",
    "    city = np.array(y[y['Country iso3'] == f'{name}'].iloc[:,2:].T)\n",
    "    TIF = np.array(Bleu_F.get(f'{name}')[[0]])\n",
    "    com = pd.DataFrame(city * TIF)\n",
    "    com.columns = y[y['Country iso3'] == f'{name}'].iloc[:,2:].T.columns   \n",
    "    Bleu_foot[name] = com\n",
    "    \n",
    "Grey_foot = {}\n",
    "\n",
    "for name in Grey_F.keys(): \n",
    "    city = np.array(y[y['Country iso3'] == f'{name}'].iloc[:,2:].T)\n",
    "    TIF = np.array(Grey_F.get(f'{name}')[[0]])\n",
    "    com = pd.DataFrame(city * TIF)\n",
    "    com.columns = y[y['Country iso3'] == f'{name}'].iloc[:,2:].T.columns   \n",
    "    Grey_foot[name] = com"
   ]
  },
  {
   "cell_type": "code",
   "execution_count": 70,
   "id": "4d3c5878-d9aa-4cfb-a814-381be82c4224",
   "metadata": {},
   "outputs": [
    {
     "data": {
      "text/html": [
       "<div>\n",
       "<style scoped>\n",
       "    .dataframe tbody tr th:only-of-type {\n",
       "        vertical-align: middle;\n",
       "    }\n",
       "\n",
       "    .dataframe tbody tr th {\n",
       "        vertical-align: top;\n",
       "    }\n",
       "\n",
       "    .dataframe thead th {\n",
       "        text-align: right;\n",
       "    }\n",
       "</style>\n",
       "<table border=\"1\" class=\"dataframe\">\n",
       "  <thead>\n",
       "    <tr style=\"text-align: right;\">\n",
       "      <th></th>\n",
       "      <th>Bleu virtual water</th>\n",
       "      <th>Grey virtual water</th>\n",
       "    </tr>\n",
       "    <tr>\n",
       "      <th>City</th>\n",
       "      <th></th>\n",
       "      <th></th>\n",
       "    </tr>\n",
       "  </thead>\n",
       "  <tbody>\n",
       "    <tr>\n",
       "      <th>Anhui</th>\n",
       "      <td>0.142104</td>\n",
       "      <td>0.224452</td>\n",
       "    </tr>\n",
       "    <tr>\n",
       "      <th>Beijing</th>\n",
       "      <td>0.267556</td>\n",
       "      <td>0.430075</td>\n",
       "    </tr>\n",
       "    <tr>\n",
       "      <th>Chongqing</th>\n",
       "      <td>0.162162</td>\n",
       "      <td>0.253669</td>\n",
       "    </tr>\n",
       "    <tr>\n",
       "      <th>Fujian</th>\n",
       "      <td>0.198856</td>\n",
       "      <td>0.314158</td>\n",
       "    </tr>\n",
       "    <tr>\n",
       "      <th>Gansu</th>\n",
       "      <td>0.135658</td>\n",
       "      <td>0.213208</td>\n",
       "    </tr>\n",
       "    <tr>\n",
       "      <th>Guangdong</th>\n",
       "      <td>0.210898</td>\n",
       "      <td>0.336848</td>\n",
       "    </tr>\n",
       "    <tr>\n",
       "      <th>Guangxi</th>\n",
       "      <td>0.137472</td>\n",
       "      <td>0.217587</td>\n",
       "    </tr>\n",
       "    <tr>\n",
       "      <th>Guizhou</th>\n",
       "      <td>0.130453</td>\n",
       "      <td>0.210130</td>\n",
       "    </tr>\n",
       "    <tr>\n",
       "      <th>Hainan</th>\n",
       "      <td>0.165483</td>\n",
       "      <td>0.260906</td>\n",
       "    </tr>\n",
       "    <tr>\n",
       "      <th>Hebei</th>\n",
       "      <td>0.129125</td>\n",
       "      <td>0.209204</td>\n",
       "    </tr>\n",
       "    <tr>\n",
       "      <th>Heilongjiang</th>\n",
       "      <td>0.131708</td>\n",
       "      <td>0.210840</td>\n",
       "    </tr>\n",
       "    <tr>\n",
       "      <th>Henan</th>\n",
       "      <td>0.130210</td>\n",
       "      <td>0.205632</td>\n",
       "    </tr>\n",
       "    <tr>\n",
       "      <th>Hubei</th>\n",
       "      <td>0.143851</td>\n",
       "      <td>0.227345</td>\n",
       "    </tr>\n",
       "    <tr>\n",
       "      <th>Hunan</th>\n",
       "      <td>0.152195</td>\n",
       "      <td>0.244671</td>\n",
       "    </tr>\n",
       "    <tr>\n",
       "      <th>Inner Mongolia</th>\n",
       "      <td>0.167142</td>\n",
       "      <td>0.268034</td>\n",
       "    </tr>\n",
       "    <tr>\n",
       "      <th>Jiangsu</th>\n",
       "      <td>0.192017</td>\n",
       "      <td>0.310888</td>\n",
       "    </tr>\n",
       "    <tr>\n",
       "      <th>Jiangxi</th>\n",
       "      <td>0.132668</td>\n",
       "      <td>0.208342</td>\n",
       "    </tr>\n",
       "    <tr>\n",
       "      <th>Jilin</th>\n",
       "      <td>0.130816</td>\n",
       "      <td>0.212114</td>\n",
       "    </tr>\n",
       "    <tr>\n",
       "      <th>Liaoning</th>\n",
       "      <td>0.165307</td>\n",
       "      <td>0.264109</td>\n",
       "    </tr>\n",
       "    <tr>\n",
       "      <th>Ningxia</th>\n",
       "      <td>0.135361</td>\n",
       "      <td>0.219394</td>\n",
       "    </tr>\n",
       "    <tr>\n",
       "      <th>Qinghai</th>\n",
       "      <td>0.143511</td>\n",
       "      <td>0.229169</td>\n",
       "    </tr>\n",
       "    <tr>\n",
       "      <th>Shaanxi</th>\n",
       "      <td>0.139429</td>\n",
       "      <td>0.225831</td>\n",
       "    </tr>\n",
       "    <tr>\n",
       "      <th>Shandong</th>\n",
       "      <td>0.153367</td>\n",
       "      <td>0.243626</td>\n",
       "    </tr>\n",
       "    <tr>\n",
       "      <th>Shanxi</th>\n",
       "      <td>0.111274</td>\n",
       "      <td>0.179393</td>\n",
       "    </tr>\n",
       "    <tr>\n",
       "      <th>Sichuan</th>\n",
       "      <td>0.157240</td>\n",
       "      <td>0.247637</td>\n",
       "    </tr>\n",
       "    <tr>\n",
       "      <th>Tianjin</th>\n",
       "      <td>0.214176</td>\n",
       "      <td>0.338672</td>\n",
       "    </tr>\n",
       "    <tr>\n",
       "      <th>Tibet</th>\n",
       "      <td>0.151999</td>\n",
       "      <td>0.233565</td>\n",
       "    </tr>\n",
       "    <tr>\n",
       "      <th>Xinjiang</th>\n",
       "      <td>0.148478</td>\n",
       "      <td>0.236226</td>\n",
       "    </tr>\n",
       "    <tr>\n",
       "      <th>Yunnan</th>\n",
       "      <td>0.138592</td>\n",
       "      <td>0.224094</td>\n",
       "    </tr>\n",
       "  </tbody>\n",
       "</table>\n",
       "</div>"
      ],
      "text/plain": [
       "                Bleu virtual water  Grey virtual water\n",
       "City                                                  \n",
       "Anhui                     0.142104            0.224452\n",
       "Beijing                   0.267556            0.430075\n",
       "Chongqing                 0.162162            0.253669\n",
       "Fujian                    0.198856            0.314158\n",
       "Gansu                     0.135658            0.213208\n",
       "Guangdong                 0.210898            0.336848\n",
       "Guangxi                   0.137472            0.217587\n",
       "Guizhou                   0.130453            0.210130\n",
       "Hainan                    0.165483            0.260906\n",
       "Hebei                     0.129125            0.209204\n",
       "Heilongjiang              0.131708            0.210840\n",
       "Henan                     0.130210            0.205632\n",
       "Hubei                     0.143851            0.227345\n",
       "Hunan                     0.152195            0.244671\n",
       "Inner Mongolia            0.167142            0.268034\n",
       "Jiangsu                   0.192017            0.310888\n",
       "Jiangxi                   0.132668            0.208342\n",
       "Jilin                     0.130816            0.212114\n",
       "Liaoning                  0.165307            0.264109\n",
       "Ningxia                   0.135361            0.219394\n",
       "Qinghai                   0.143511            0.229169\n",
       "Shaanxi                   0.139429            0.225831\n",
       "Shandong                  0.153367            0.243626\n",
       "Shanxi                    0.111274            0.179393\n",
       "Sichuan                   0.157240            0.247637\n",
       "Tianjin                   0.214176            0.338672\n",
       "Tibet                     0.151999            0.233565\n",
       "Xinjiang                  0.148478            0.236226\n",
       "Yunnan                    0.138592            0.224094"
      ]
     },
     "execution_count": 70,
     "metadata": {},
     "output_type": "execute_result"
    }
   ],
   "source": [
    "o"
   ]
  },
  {
   "cell_type": "code",
   "execution_count": 79,
   "id": "582c3c9e-46e8-4e73-bc26-d12346d9ff5d",
   "metadata": {},
   "outputs": [
    {
     "data": {
      "image/png": "[encoded data removed]",
      "text/plain": [
       "<Figure size 576x504 with 1 Axes>"
      ]
     },
     "metadata": {},
     "output_type": "display_data"
    }
   ],
   "source": [
    "sns.set_style('whitegrid')\n",
    "b = Bleu_foot.get('CHN').sum().to_frame()\n",
    "b.columns = ['Bleu virtual water']\n",
    "g = Grey_foot.get('CHN').sum().to_frame()\n",
    "g.columns = ['Grey virtual water']\n",
    "o = pd.concat([b,g], axis = 1)\n",
    "o = o * 1000\n",
    "# o = o.melt()\n",
    "o.plot(kind = 'barh', figsize= (8, 7), ylabel = '', xlabel = '', color = ['b', 'grey'])\n",
    "plt.title(\"Chinese cities' Bleu-Grey virtual water (liter per cap/yr)\", loc = 'left');"
   ]
  },
  {
   "cell_type": "code",
   "execution_count": 15,
   "id": "52f751b1-5ca4-4aa4-9c2e-0b080dc39cf9",
   "metadata": {},
   "outputs": [],
   "source": [
    "## take the dfs \n",
    "Bleu = pd.concat([Bleu_foot.get(i) for i in Bleu_foot.keys()], axis =1)\n",
    "Grey = pd.concat([Grey_foot.get(i) for i in Grey_foot.keys()], axis =1)"
   ]
  },
  {
   "cell_type": "code",
   "execution_count": 16,
   "id": "09970c0d-2450-4b29-b278-7922dd3c1534",
   "metadata": {},
   "outputs": [],
   "source": [
    "Bleu = pd.concat([sectors, Bleu * 1000], axis =1)\n",
    "Grey = pd.concat([sectors, Grey * 1000], axis =1) "
   ]
  },
  {
   "cell_type": "code",
   "execution_count": 17,
   "id": "b0135950-132b-4136-8c65-3fed78b6574b",
   "metadata": {},
   "outputs": [],
   "source": [
    "Bleu = Bleu.melt(id_vars = ['Sector', 'Industry_category'], var_name = 'City')\n",
    "Bleu['Type'] = 'Bleu water'\n",
    "Grey = Grey.melt(id_vars = ['Sector', 'Industry_category'], var_name = 'City')\n",
    "Grey['Type'] = 'Grey water'"
   ]
  },
  {
   "cell_type": "code",
   "execution_count": 18,
   "id": "184ed9aa-8331-464a-8786-f59e8ad837d0",
   "metadata": {},
   "outputs": [],
   "source": [
    "tot = pd.concat([Bleu, Grey], axis = 0)"
   ]
  },
  {
   "cell_type": "markdown",
   "id": "461c1469-16cf-416b-b04f-1326af225b54",
   "metadata": {},
   "source": [
    "## EDA"
   ]
  },
  {
   "cell_type": "code",
   "execution_count": 19,
   "id": "fd5ec605-ef57-4567-86a5-49164f0d6eda",
   "metadata": {},
   "outputs": [
    {
     "data": {
      "text/html": [
       "<div>\n",
       "<style scoped>\n",
       "    .dataframe tbody tr th:only-of-type {\n",
       "        vertical-align: middle;\n",
       "    }\n",
       "\n",
       "    .dataframe tbody tr th {\n",
       "        vertical-align: top;\n",
       "    }\n",
       "\n",
       "    .dataframe thead th {\n",
       "        text-align: right;\n",
       "    }\n",
       "</style>\n",
       "<table border=\"1\" class=\"dataframe\">\n",
       "  <thead>\n",
       "    <tr style=\"text-align: right;\">\n",
       "      <th></th>\n",
       "      <th>Sector</th>\n",
       "      <th>Industry_category</th>\n",
       "      <th>City</th>\n",
       "      <th>value</th>\n",
       "      <th>Type</th>\n",
       "    </tr>\n",
       "  </thead>\n",
       "  <tbody>\n",
       "    <tr>\n",
       "      <th>0</th>\n",
       "      <td>Food</td>\n",
       "      <td>Primary industry</td>\n",
       "      <td>Algiers</td>\n",
       "      <td>0.0</td>\n",
       "      <td>Bleu water</td>\n",
       "    </tr>\n",
       "    <tr>\n",
       "      <th>1</th>\n",
       "      <td>Food</td>\n",
       "      <td>Primary industry</td>\n",
       "      <td>Algiers</td>\n",
       "      <td>0.0</td>\n",
       "      <td>Bleu water</td>\n",
       "    </tr>\n",
       "    <tr>\n",
       "      <th>2</th>\n",
       "      <td>Goods</td>\n",
       "      <td>Primary industry</td>\n",
       "      <td>Algiers</td>\n",
       "      <td>0.0</td>\n",
       "      <td>Bleu water</td>\n",
       "    </tr>\n",
       "  </tbody>\n",
       "</table>\n",
       "</div>"
      ],
      "text/plain": [
       "  Sector Industry_category     City  value        Type\n",
       "0   Food  Primary industry  Algiers    0.0  Bleu water\n",
       "1   Food  Primary industry  Algiers    0.0  Bleu water\n",
       "2  Goods  Primary industry  Algiers    0.0  Bleu water"
      ]
     },
     "execution_count": 19,
     "metadata": {},
     "output_type": "execute_result"
    }
   ],
   "source": [
    "tot.head(3)"
   ]
  },
  {
   "cell_type": "code",
   "execution_count": 83,
   "id": "80f63321-695a-4e37-af7c-7d156933e4dc",
   "metadata": {},
   "outputs": [
    {
     "data": {
      "text/html": [
       "<div>\n",
       "<style scoped>\n",
       "    .dataframe tbody tr th:only-of-type {\n",
       "        vertical-align: middle;\n",
       "    }\n",
       "\n",
       "    .dataframe tbody tr th {\n",
       "        vertical-align: top;\n",
       "    }\n",
       "\n",
       "    .dataframe thead th {\n",
       "        text-align: right;\n",
       "    }\n",
       "</style>\n",
       "<table border=\"1\" class=\"dataframe\">\n",
       "  <thead>\n",
       "    <tr style=\"text-align: right;\">\n",
       "      <th></th>\n",
       "      <th>City</th>\n",
       "      <th>Type</th>\n",
       "      <th>value</th>\n",
       "    </tr>\n",
       "  </thead>\n",
       "  <tbody>\n",
       "    <tr>\n",
       "      <th>0</th>\n",
       "      <td>Abidjan</td>\n",
       "      <td>Bleu water</td>\n",
       "      <td>23.979095</td>\n",
       "    </tr>\n",
       "    <tr>\n",
       "      <th>1</th>\n",
       "      <td>Abidjan</td>\n",
       "      <td>Grey water</td>\n",
       "      <td>42.891111</td>\n",
       "    </tr>\n",
       "    <tr>\n",
       "      <th>2</th>\n",
       "      <td>Addu</td>\n",
       "      <td>Bleu water</td>\n",
       "      <td>184.525248</td>\n",
       "    </tr>\n",
       "    <tr>\n",
       "      <th>3</th>\n",
       "      <td>Addu</td>\n",
       "      <td>Grey water</td>\n",
       "      <td>483.895588</td>\n",
       "    </tr>\n",
       "    <tr>\n",
       "      <th>4</th>\n",
       "      <td>Agneby-Tiassa</td>\n",
       "      <td>Bleu water</td>\n",
       "      <td>23.216644</td>\n",
       "    </tr>\n",
       "    <tr>\n",
       "      <th>...</th>\n",
       "      <td>...</td>\n",
       "      <td>...</td>\n",
       "      <td>...</td>\n",
       "    </tr>\n",
       "    <tr>\n",
       "      <th>367</th>\n",
       "      <td>Yunnan</td>\n",
       "      <td>Grey water</td>\n",
       "      <td>224.093537</td>\n",
       "    </tr>\n",
       "    <tr>\n",
       "      <th>368</th>\n",
       "      <td>Zacatlan</td>\n",
       "      <td>Bleu water</td>\n",
       "      <td>26.359645</td>\n",
       "    </tr>\n",
       "    <tr>\n",
       "      <th>369</th>\n",
       "      <td>Zacatlan</td>\n",
       "      <td>Grey water</td>\n",
       "      <td>27.082354</td>\n",
       "    </tr>\n",
       "    <tr>\n",
       "      <th>370</th>\n",
       "      <td>Zambezi</td>\n",
       "      <td>Bleu water</td>\n",
       "      <td>41.762193</td>\n",
       "    </tr>\n",
       "    <tr>\n",
       "      <th>371</th>\n",
       "      <td>Zambezi</td>\n",
       "      <td>Grey water</td>\n",
       "      <td>17.714174</td>\n",
       "    </tr>\n",
       "  </tbody>\n",
       "</table>\n",
       "<p>372 rows × 3 columns</p>\n",
       "</div>"
      ],
      "text/plain": [
       "              City        Type       value\n",
       "0          Abidjan  Bleu water   23.979095\n",
       "1          Abidjan  Grey water   42.891111\n",
       "2             Addu  Bleu water  184.525248\n",
       "3             Addu  Grey water  483.895588\n",
       "4    Agneby-Tiassa  Bleu water   23.216644\n",
       "..             ...         ...         ...\n",
       "367         Yunnan  Grey water  224.093537\n",
       "368       Zacatlan  Bleu water   26.359645\n",
       "369       Zacatlan  Grey water   27.082354\n",
       "370        Zambezi  Bleu water   41.762193\n",
       "371        Zambezi  Grey water   17.714174\n",
       "\n",
       "[372 rows x 3 columns]"
      ]
     },
     "execution_count": 83,
     "metadata": {},
     "output_type": "execute_result"
    }
   ],
   "source": [
    "tot.groupby(['City', 'Type']).sum().reset_index()"
   ]
  },
  {
   "cell_type": "code",
   "execution_count": 21,
   "id": "82402a3e-61a7-4a38-bf5e-b5f97560131d",
   "metadata": {},
   "outputs": [
    {
     "data": {
      "image/png": "[encoded data removed]",
      "text/plain": [
       "<Figure size 640x480 with 2 Axes>"
      ]
     },
     "metadata": {},
     "output_type": "display_data"
    },
    {
     "data": {
      "text/plain": [
       "<ggplot: (158817902150)>"
      ]
     },
     "execution_count": 21,
     "metadata": {},
     "output_type": "execute_result"
    }
   ],
   "source": [
    "(ggplot(tot) + geom_violin(aes(x = 'Sector', y = 'value')) + facet_wrap('~Type'))"
   ]
  },
  {
   "cell_type": "code",
   "execution_count": 22,
   "id": "a8a497ae-27f6-4712-a142-a3d2952624f1",
   "metadata": {},
   "outputs": [
    {
     "name": "stderr",
     "output_type": "stream",
     "text": [
      "C:\\Users\\mhachaichi\\Miniconda3\\lib\\site-packages\\mizani\\palettes.py:397: UserWarning: Warning message:Brewer palette Set2 has a maximum of 8 colors Returning the palette you asked for with that many colors\n",
      "C:\\Users\\mhachaichi\\Miniconda3\\lib\\site-packages\\mizani\\palettes.py:397: UserWarning: Warning message:Brewer palette Set2 has a maximum of 8 colors Returning the palette you asked for with that many colors\n"
     ]
    },
    {
     "data": {
      "image/png": "[encoded data removed]",
      "text/plain": [
       "<Figure size 640x480 with 1 Axes>"
      ]
     },
     "metadata": {},
     "output_type": "display_data"
    },
    {
     "data": {
      "text/plain": [
       "<ggplot: (158821385789)>"
      ]
     },
     "execution_count": 22,
     "metadata": {},
     "output_type": "execute_result"
    }
   ],
   "source": [
    "(ggplot(tot.groupby(['Type', 'Sector'])['value'].mean().to_frame().reset_index(), aes('Type', 'value', fill = 'Sector'))\n",
    "    + theme_bw(base_size = 9)\n",
    "    + geom_bar(stat = 'identity', position = 'fill')\n",
    "    + coord_flip()\n",
    "    + scale_fill_brewer(type = 'qual', palette = 7)\n",
    ")"
   ]
  },
  {
   "cell_type": "code",
   "execution_count": 23,
   "id": "ee7de249-a425-4525-b8cb-a318f5a80715",
   "metadata": {},
   "outputs": [
    {
     "data": {
      "text/html": [
       "<div>\n",
       "<style scoped>\n",
       "    .dataframe tbody tr th:only-of-type {\n",
       "        vertical-align: middle;\n",
       "    }\n",
       "\n",
       "    .dataframe tbody tr th {\n",
       "        vertical-align: top;\n",
       "    }\n",
       "\n",
       "    .dataframe thead th {\n",
       "        text-align: right;\n",
       "    }\n",
       "</style>\n",
       "<table border=\"1\" class=\"dataframe\">\n",
       "  <thead>\n",
       "    <tr style=\"text-align: right;\">\n",
       "      <th></th>\n",
       "      <th>Sector</th>\n",
       "      <th>Industry_category</th>\n",
       "      <th>City</th>\n",
       "      <th>value</th>\n",
       "      <th>Type</th>\n",
       "    </tr>\n",
       "  </thead>\n",
       "  <tbody>\n",
       "    <tr>\n",
       "      <th>0</th>\n",
       "      <td>Food</td>\n",
       "      <td>Primary industry</td>\n",
       "      <td>Algiers</td>\n",
       "      <td>0.000000</td>\n",
       "      <td>Bleu water</td>\n",
       "    </tr>\n",
       "    <tr>\n",
       "      <th>1</th>\n",
       "      <td>Food</td>\n",
       "      <td>Primary industry</td>\n",
       "      <td>Algiers</td>\n",
       "      <td>0.000000</td>\n",
       "      <td>Bleu water</td>\n",
       "    </tr>\n",
       "    <tr>\n",
       "      <th>2</th>\n",
       "      <td>Goods</td>\n",
       "      <td>Primary industry</td>\n",
       "      <td>Algiers</td>\n",
       "      <td>0.000000</td>\n",
       "      <td>Bleu water</td>\n",
       "    </tr>\n",
       "    <tr>\n",
       "      <th>3</th>\n",
       "      <td>Food</td>\n",
       "      <td>Light manufacturing</td>\n",
       "      <td>Algiers</td>\n",
       "      <td>144.989846</td>\n",
       "      <td>Bleu water</td>\n",
       "    </tr>\n",
       "    <tr>\n",
       "      <th>4</th>\n",
       "      <td>Textiles</td>\n",
       "      <td>Light manufacturing</td>\n",
       "      <td>Algiers</td>\n",
       "      <td>2.664690</td>\n",
       "      <td>Bleu water</td>\n",
       "    </tr>\n",
       "    <tr>\n",
       "      <th>...</th>\n",
       "      <td>...</td>\n",
       "      <td>...</td>\n",
       "      <td>...</td>\n",
       "      <td>...</td>\n",
       "      <td>...</td>\n",
       "    </tr>\n",
       "    <tr>\n",
       "      <th>4831</th>\n",
       "      <td>Services</td>\n",
       "      <td>Tertiary industry</td>\n",
       "      <td>Yunnan</td>\n",
       "      <td>0.000000</td>\n",
       "      <td>Grey water</td>\n",
       "    </tr>\n",
       "    <tr>\n",
       "      <th>4832</th>\n",
       "      <td>Services</td>\n",
       "      <td>Tertiary industry</td>\n",
       "      <td>Yunnan</td>\n",
       "      <td>14.949044</td>\n",
       "      <td>Grey water</td>\n",
       "    </tr>\n",
       "    <tr>\n",
       "      <th>4833</th>\n",
       "      <td>Goods</td>\n",
       "      <td>Tertiary industry</td>\n",
       "      <td>Yunnan</td>\n",
       "      <td>0.000000</td>\n",
       "      <td>Grey water</td>\n",
       "    </tr>\n",
       "    <tr>\n",
       "      <th>4834</th>\n",
       "      <td>Others</td>\n",
       "      <td>Light manufacturing</td>\n",
       "      <td>Yunnan</td>\n",
       "      <td>0.009714</td>\n",
       "      <td>Grey water</td>\n",
       "    </tr>\n",
       "    <tr>\n",
       "      <th>4835</th>\n",
       "      <td>Goods</td>\n",
       "      <td>Light manufacturing</td>\n",
       "      <td>Yunnan</td>\n",
       "      <td>0.000000</td>\n",
       "      <td>Grey water</td>\n",
       "    </tr>\n",
       "  </tbody>\n",
       "</table>\n",
       "<p>9672 rows × 5 columns</p>\n",
       "</div>"
      ],
      "text/plain": [
       "        Sector    Industry_category     City       value        Type\n",
       "0         Food     Primary industry  Algiers    0.000000  Bleu water\n",
       "1         Food     Primary industry  Algiers    0.000000  Bleu water\n",
       "2        Goods     Primary industry  Algiers    0.000000  Bleu water\n",
       "3         Food  Light manufacturing  Algiers  144.989846  Bleu water\n",
       "4     Textiles  Light manufacturing  Algiers    2.664690  Bleu water\n",
       "...        ...                  ...      ...         ...         ...\n",
       "4831  Services    Tertiary industry   Yunnan    0.000000  Grey water\n",
       "4832  Services    Tertiary industry   Yunnan   14.949044  Grey water\n",
       "4833     Goods    Tertiary industry   Yunnan    0.000000  Grey water\n",
       "4834    Others  Light manufacturing   Yunnan    0.009714  Grey water\n",
       "4835     Goods  Light manufacturing   Yunnan    0.000000  Grey water\n",
       "\n",
       "[9672 rows x 5 columns]"
      ]
     },
     "execution_count": 23,
     "metadata": {},
     "output_type": "execute_result"
    }
   ],
   "source": [
    "tot"
   ]
  },
  {
   "cell_type": "code",
   "execution_count": 24,
   "id": "68f741c5-383c-4521-bbfb-9b5ce0ab6577",
   "metadata": {},
   "outputs": [
    {
     "data": {
      "image/png": "[encoded data removed]",
      "text/plain": [
       "<Figure size 640x480 with 1 Axes>"
      ]
     },
     "metadata": {},
     "output_type": "display_data"
    },
    {
     "data": {
      "text/plain": [
       "<ggplot: (158821394902)>"
      ]
     },
     "execution_count": 24,
     "metadata": {},
     "output_type": "execute_result"
    }
   ],
   "source": [
    "(ggplot(tot, aes('Type', 'value', fill = 'Sector'))\n",
    "    + theme_bw(base_size = 9)\n",
    "    + geom_bar(stat = 'identity', position = 'fill')\n",
    "    + coord_flip()\n",
    ")"
   ]
  },
  {
   "cell_type": "code",
   "execution_count": 25,
   "id": "52d9e70a-72e3-472f-bae3-fd2acb93a76a",
   "metadata": {},
   "outputs": [
    {
     "name": "stderr",
     "output_type": "stream",
     "text": [
      "C:\\Users\\mhachaichi\\Miniconda3\\lib\\site-packages\\mizani\\palettes.py:397: UserWarning: Warning message:Brewer palette Pastel2 has a maximum of 8 colors Returning the palette you asked for with that many colors\n",
      "C:\\Users\\mhachaichi\\Miniconda3\\lib\\site-packages\\mizani\\palettes.py:397: UserWarning: Warning message:Brewer palette Pastel2 has a maximum of 8 colors Returning the palette you asked for with that many colors\n"
     ]
    },
    {
     "data": {
      "image/png": "[encoded data removed]",
      "text/plain": [
       "<Figure size 640x480 with 2 Axes>"
      ]
     },
     "metadata": {},
     "output_type": "display_data"
    },
    {
     "data": {
      "text/plain": [
       "<ggplot: (158820128443)>"
      ]
     },
     "execution_count": 25,
     "metadata": {},
     "output_type": "execute_result"
    }
   ],
   "source": [
    "(ggplot(tot.groupby(['Sector', 'Type', 'Industry_category'])['value'].mean().to_frame().reset_index(), aes('Industry_category', 'value', fill = 'Sector'))\n",
    "    + theme_bw(base_size = 9)\n",
    "    + geom_bar(stat = 'identity', position = 'fill')\n",
    "    + coord_flip()\n",
    "    + facet_wrap('~Type')\n",
    "    + scale_fill_brewer(type = 'qual', palette = 5)\n",
    ")"
   ]
  }
 ],
 "metadata": {
  "kernelspec": {
   "display_name": "Python 3 (ipykernel)",
   "language": "python",
   "name": "python3"
  },
  "language_info": {
   "codemirror_mode": {
    "name": "ipython",
    "version": 3
   },
   "file_extension": ".py",
   "mimetype": "text/x-python",
   "name": "python",
   "nbconvert_exporter": "python",
   "pygments_lexer": "ipython3",
   "version": "3.9.9"
  }
 },
 "nbformat": 4,
 "nbformat_minor": 5
}
