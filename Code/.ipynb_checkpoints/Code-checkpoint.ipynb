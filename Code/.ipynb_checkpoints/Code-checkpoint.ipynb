{
 "cells": [
  {
   "cell_type": "markdown",
   "id": "0341dcef",
   "metadata": {},
   "source": [
    "## Set the computations "
   ]
  },
  {
   "cell_type": "code",
   "execution_count": 1,
   "id": "e0d64294-dfd4-4fc9-aedb-f97403713822",
   "metadata": {},
   "outputs": [],
   "source": [
    "# Import modules \n",
    "import pandas as pd \n",
    "import numpy as np \n",
    "import matplotlib.pyplot as plt \n",
    "import seaborn as sns\n",
    "from plotnine import *\n",
    "%matplotlib inline "
   ]
  },
  {
   "cell_type": "code",
   "execution_count": 2,
   "id": "94b49e30-89d8-456e-8e37-6401471a0786",
   "metadata": {},
   "outputs": [],
   "source": [
    "# Set visuales \n",
    "coloors = ['#739354', '#875590', '#7dd3ec','#f5c9d0' , '#7dd3ec']"
   ]
  },
  {
   "cell_type": "code",
   "execution_count": 66,
   "id": "ef18416a-d167-4d8b-a2f9-b2b36a0a5d5c",
   "metadata": {},
   "outputs": [
    {
     "data": {
      "text/html": [
       "<div>\n",
       "<style scoped>\n",
       "    .dataframe tbody tr th:only-of-type {\n",
       "        vertical-align: middle;\n",
       "    }\n",
       "\n",
       "    .dataframe tbody tr th {\n",
       "        vertical-align: top;\n",
       "    }\n",
       "\n",
       "    .dataframe thead th {\n",
       "        text-align: right;\n",
       "    }\n",
       "</style>\n",
       "<table border=\"1\" class=\"dataframe\">\n",
       "  <thead>\n",
       "    <tr style=\"text-align: right;\">\n",
       "      <th></th>\n",
       "      <th>Sector</th>\n",
       "      <th>Industry_category</th>\n",
       "    </tr>\n",
       "  </thead>\n",
       "  <tbody>\n",
       "    <tr>\n",
       "      <th>0</th>\n",
       "      <td>Food</td>\n",
       "      <td>Primary industry</td>\n",
       "    </tr>\n",
       "    <tr>\n",
       "      <th>1</th>\n",
       "      <td>Food</td>\n",
       "      <td>Primary industry</td>\n",
       "    </tr>\n",
       "    <tr>\n",
       "      <th>2</th>\n",
       "      <td>Goods</td>\n",
       "      <td>Primary industry</td>\n",
       "    </tr>\n",
       "  </tbody>\n",
       "</table>\n",
       "</div>"
      ],
      "text/plain": [
       "  Sector Industry_category\n",
       "0   Food  Primary industry\n",
       "1   Food  Primary industry\n",
       "2  Goods  Primary industry"
      ]
     },
     "execution_count": 66,
     "metadata": {},
     "output_type": "execute_result"
    }
   ],
   "source": [
    "# read major final demand sectors \n",
    "sectors = pd.read_excel('../Data/Meta.xlsx', sheet_name = 'Data').drop('Eora_classification', axis =1)\n",
    "sec_map = {1: 'Primary industry', 21 : 'Light manufacturing',23 : 'Heavey manufacturing', 3 : 'Tertiary industry' }\n",
    "sectors['Industry_category'] = sectors['Industry_category'].map(sec_map)\n",
    "sectors.head(3)"
   ]
  },
  {
   "cell_type": "markdown",
   "id": "cb168d5e-0851-47c8-9717-712c6377b39c",
   "metadata": {},
   "source": [
    "## 1. CES data"
   ]
  },
  {
   "cell_type": "code",
   "execution_count": 4,
   "id": "2a74c1ca-a109-4bdf-b398-e79cb0f8defb",
   "metadata": {},
   "outputs": [
    {
     "data": {
      "text/html": [
       "<div>\n",
       "<style scoped>\n",
       "    .dataframe tbody tr th:only-of-type {\n",
       "        vertical-align: middle;\n",
       "    }\n",
       "\n",
       "    .dataframe tbody tr th {\n",
       "        vertical-align: top;\n",
       "    }\n",
       "\n",
       "    .dataframe thead th {\n",
       "        text-align: right;\n",
       "    }\n",
       "</style>\n",
       "<table border=\"1\" class=\"dataframe\">\n",
       "  <thead>\n",
       "    <tr style=\"text-align: right;\">\n",
       "      <th></th>\n",
       "      <th>Category</th>\n",
       "      <th>Country iso3</th>\n",
       "      <th>0</th>\n",
       "      <th>1</th>\n",
       "      <th>2</th>\n",
       "      <th>3</th>\n",
       "      <th>4</th>\n",
       "      <th>5</th>\n",
       "      <th>6</th>\n",
       "      <th>7</th>\n",
       "      <th>...</th>\n",
       "      <th>16</th>\n",
       "      <th>17</th>\n",
       "      <th>18</th>\n",
       "      <th>19</th>\n",
       "      <th>20</th>\n",
       "      <th>21</th>\n",
       "      <th>22</th>\n",
       "      <th>23</th>\n",
       "      <th>24</th>\n",
       "      <th>25</th>\n",
       "    </tr>\n",
       "    <tr>\n",
       "      <th>City</th>\n",
       "      <th></th>\n",
       "      <th></th>\n",
       "      <th></th>\n",
       "      <th></th>\n",
       "      <th></th>\n",
       "      <th></th>\n",
       "      <th></th>\n",
       "      <th></th>\n",
       "      <th></th>\n",
       "      <th></th>\n",
       "      <th></th>\n",
       "      <th></th>\n",
       "      <th></th>\n",
       "      <th></th>\n",
       "      <th></th>\n",
       "      <th></th>\n",
       "      <th></th>\n",
       "      <th></th>\n",
       "      <th></th>\n",
       "      <th></th>\n",
       "      <th></th>\n",
       "    </tr>\n",
       "  </thead>\n",
       "  <tbody>\n",
       "    <tr>\n",
       "      <th>Abidjan</th>\n",
       "      <td>LMIC</td>\n",
       "      <td>CIV</td>\n",
       "      <td>0.0</td>\n",
       "      <td>0.0</td>\n",
       "      <td>0.0</td>\n",
       "      <td>356.394219</td>\n",
       "      <td>45.330338</td>\n",
       "      <td>0.0</td>\n",
       "      <td>0.0</td>\n",
       "      <td>0.0</td>\n",
       "      <td>...</td>\n",
       "      <td>0.0</td>\n",
       "      <td>0.000000</td>\n",
       "      <td>89.879362</td>\n",
       "      <td>51.582868</td>\n",
       "      <td>0.0</td>\n",
       "      <td>0.0</td>\n",
       "      <td>24.305724</td>\n",
       "      <td>0.0</td>\n",
       "      <td>61.741964</td>\n",
       "      <td>0.0</td>\n",
       "    </tr>\n",
       "    <tr>\n",
       "      <th>Addu</th>\n",
       "      <td>UMIC</td>\n",
       "      <td>MDV</td>\n",
       "      <td>0.0</td>\n",
       "      <td>0.0</td>\n",
       "      <td>0.0</td>\n",
       "      <td>813.932292</td>\n",
       "      <td>116.276042</td>\n",
       "      <td>0.0</td>\n",
       "      <td>0.0</td>\n",
       "      <td>0.0</td>\n",
       "      <td>...</td>\n",
       "      <td>0.0</td>\n",
       "      <td>116.276042</td>\n",
       "      <td>377.864583</td>\n",
       "      <td>232.552083</td>\n",
       "      <td>0.0</td>\n",
       "      <td>0.0</td>\n",
       "      <td>436.002604</td>\n",
       "      <td>0.0</td>\n",
       "      <td>174.414062</td>\n",
       "      <td>0.0</td>\n",
       "    </tr>\n",
       "    <tr>\n",
       "      <th>Agneby-Tiassa</th>\n",
       "      <td>LMIC</td>\n",
       "      <td>CIV</td>\n",
       "      <td>0.0</td>\n",
       "      <td>0.0</td>\n",
       "      <td>0.0</td>\n",
       "      <td>327.301433</td>\n",
       "      <td>44.229212</td>\n",
       "      <td>0.0</td>\n",
       "      <td>0.0</td>\n",
       "      <td>0.0</td>\n",
       "      <td>...</td>\n",
       "      <td>0.0</td>\n",
       "      <td>0.000000</td>\n",
       "      <td>110.171241</td>\n",
       "      <td>58.703749</td>\n",
       "      <td>0.0</td>\n",
       "      <td>0.0</td>\n",
       "      <td>59.507327</td>\n",
       "      <td>0.0</td>\n",
       "      <td>6.641163</td>\n",
       "      <td>0.0</td>\n",
       "    </tr>\n",
       "  </tbody>\n",
       "</table>\n",
       "<p>3 rows × 28 columns</p>\n",
       "</div>"
      ],
      "text/plain": [
       "              Category Country iso3    0    1    2           3           4  \\\n",
       "City                                                                         \n",
       "Abidjan           LMIC          CIV  0.0  0.0  0.0  356.394219   45.330338   \n",
       "Addu              UMIC          MDV  0.0  0.0  0.0  813.932292  116.276042   \n",
       "Agneby-Tiassa     LMIC          CIV  0.0  0.0  0.0  327.301433   44.229212   \n",
       "\n",
       "                 5    6    7  ...   16          17          18          19  \\\n",
       "City                          ...                                            \n",
       "Abidjan        0.0  0.0  0.0  ...  0.0    0.000000   89.879362   51.582868   \n",
       "Addu           0.0  0.0  0.0  ...  0.0  116.276042  377.864583  232.552083   \n",
       "Agneby-Tiassa  0.0  0.0  0.0  ...  0.0    0.000000  110.171241   58.703749   \n",
       "\n",
       "                20   21          22   23          24   25  \n",
       "City                                                       \n",
       "Abidjan        0.0  0.0   24.305724  0.0   61.741964  0.0  \n",
       "Addu           0.0  0.0  436.002604  0.0  174.414062  0.0  \n",
       "Agneby-Tiassa  0.0  0.0   59.507327  0.0    6.641163  0.0  \n",
       "\n",
       "[3 rows x 28 columns]"
      ]
     },
     "execution_count": 4,
     "metadata": {},
     "output_type": "execute_result"
    }
   ],
   "source": [
    "# Set general path \n",
    "ces_path = '../Data/CES/'\n",
    "# Read the CES data \n",
    "y = pd.read_csv(ces_path + 'urban.ces.csv', index_col = 'City')\n",
    "y.head(3)"
   ]
  },
  {
   "cell_type": "markdown",
   "id": "492cc1d2",
   "metadata": {},
   "source": [
    "## 2. Compute the TIV ($F$)"
   ]
  },
  {
   "cell_type": "markdown",
   "id": "cc6d8164-eebe-4f9e-af29-136807474c80",
   "metadata": {},
   "source": [
    "For this anlysis we're using [Eora26](https://worldmrio.com/eora26/) (v199.82)"
   ]
  },
  {
   "cell_type": "code",
   "execution_count": 5,
   "id": "8ad14ca3-22ab-4322-a1d8-9c34b584fbf8",
   "metadata": {},
   "outputs": [],
   "source": [
    "# Read modules \n",
    "import numpy as np\n",
    "import pandas as pd\n",
    "import os\n",
    "import re"
   ]
  },
  {
   "cell_type": "markdown",
   "id": "f06d0afa",
   "metadata": {},
   "source": [
    "We need to compute the the Total Intensity Vector $(F)$ for these countries: *['CIV', 'MDV', 'MEX', 'DZA', 'LKA', 'CHN', 'BGD', 'ALB', 'ZWE','EGY', 'ZAF', 'MAR', 'NAM', 'BWA', 'VNM', 'ZMB', 'MNE', 'ASM', 'CRI', 'GEO', 'TUN']*\n",
    "\n",
    "To compute the the TIF, we need to preform the following operations: \n",
    "- compute the Xout \n",
    "- compute the direct intensity vector (f) \n",
    "- comput technical coefficient matrix\n",
    "- compute Wassily Leontief inverse \n",
    "- compute the Total intesnity verctor "
   ]
  },
  {
   "cell_type": "code",
   "execution_count": 74,
   "id": "9287b684-a5ec-43cd-9017-1bb1a1689e45",
   "metadata": {},
   "outputs": [
    {
     "name": "stdout",
     "output_type": "stream",
     "text": [
      " \n",
      " i == Eora26_2009_bp \n",
      "\n",
      "m == Eora26_2009_bp_FD.txt\n",
      "m == Eora26_2009_bp_Q.txt\n",
      "m == Eora26_2009_bp_QY.txt\n",
      "m == Eora26_2009_bp_T.txt\n",
      "m == Eora26_2009_bp_VA.txt\n",
      " \n",
      " i == Eora26_2010_bp \n",
      "\n",
      "m == Eora26_2010_bp_FD.txt\n",
      "m == Eora26_2010_bp_Q.txt\n",
      "m == Eora26_2010_bp_QY.txt\n",
      "m == Eora26_2010_bp_T.txt\n",
      "m == Eora26_2010_bp_VA.txt\n",
      " \n",
      " i == Eora26_2011_bp \n",
      "\n",
      "m == Eora26_2011_bp_FD.txt\n",
      "m == Eora26_2011_bp_Q.txt\n",
      "m == Eora26_2011_bp_QY.txt\n",
      "m == Eora26_2011_bp_T.txt\n",
      "m == Eora26_2011_bp_VA.txt\n",
      " \n",
      " i == Eora26_2012_bp \n",
      "\n",
      "m == Eora26_2012_bp_FD.txt\n",
      "m == Eora26_2012_bp_Q.txt\n",
      "m == Eora26_2012_bp_QY.txt\n",
      "m == Eora26_2012_bp_T.txt\n",
      "m == Eora26_2012_bp_VA.txt\n",
      " \n",
      " i == Eora26_2013_bp \n",
      "\n",
      "m == Eora26_2013_bp_FD.txt\n",
      "m == Eora26_2013_bp_Q.txt\n",
      "m == Eora26_2013_bp_QY.txt\n",
      "m == Eora26_2013_bp_T.txt\n",
      "m == Eora26_2013_bp_VA.txt\n",
      " \n",
      " i == Eora26_2014_bp \n",
      "\n",
      "m == Eora26_2014_bp_FD.txt\n",
      "m == Eora26_2014_bp_Q.txt\n",
      "m == Eora26_2014_bp_QY.txt\n",
      "m == Eora26_2014_bp_T.txt\n",
      "m == Eora26_2014_bp_VA.txt\n",
      " \n",
      " i == Eora26_2015_bp \n",
      "\n",
      "m == Eora26_2015_bp_FD.txt\n",
      "m == Eora26_2015_bp_Q.txt\n",
      "m == Eora26_2015_bp_QY.txt\n",
      "m == Eora26_2015_bp_T.txt\n",
      "m == Eora26_2015_bp_VA.txt\n"
     ]
    }
   ],
   "source": [
    "# set paths \n",
    "bp_path = '../Data/Eora/Eora_BP/'\n",
    "\n",
    "# Read the index \n",
    "index = [file for file in os.listdir(bp_path)]\n",
    "index\n",
    "\n",
    "containers = {}\n",
    "for i in index:\n",
    "    path = [file for file in os.listdir(bp_path + i) if any(map(str.isdigit, file))]\n",
    "    print(f' \\n i == {i} \\n')\n",
    "    container = {}\n",
    "    containers[i] = container\n",
    "    for m in path:\n",
    "        print(f'm == {m}')\n",
    "        read = pd.read_csv(bp_path + i + '/' + m, delimiter = '\\t', header = None)\n",
    "        container[m.split('_')[-1].split('.')[0]] = read"
   ]
  },
  {
   "cell_type": "code",
   "execution_count": 75,
   "id": "8a750535-a9a3-47f8-b717-5b4fe145eb10",
   "metadata": {},
   "outputs": [
    {
     "data": {
      "text/plain": [
       "0       WFN: Total water footprint (Mm3/yr) - Grey\n",
       "1                                            Total\n",
       "2                                              NaN\n",
       "0                                            335.7\n",
       "1                                          0.25441\n",
       "                           ...                    \n",
       "4910                                        22.022\n",
       "4911                                           0.0\n",
       "4912                                           0.0\n",
       "4913                                           0.0\n",
       "4914                                             0\n",
       "Name: 2501, Length: 4918, dtype: object"
      ]
     },
     "execution_count": 75,
     "metadata": {},
     "output_type": "execute_result"
    }
   ],
   "source": [
    "## check the Q-values index\n",
    "Q = pd.read_csv('../Data/Eora/Eora_BP/Eora26_2009_bp/Eora26_2009_bp_Q.txt', delimiter = '\\t', header = None)\n",
    "I = pd.read_csv('../Data/Eora/Eora_BP/Eora26_2009_bp/labels_Q.txt', delimiter = '\\t', header = None)\n",
    "lo = pd.concat([I, Q], axis = 1)\n",
    "lo.iloc[2501,]"
   ]
  },
  {
   "cell_type": "code",
   "execution_count": 76,
   "id": "941d31c1-e696-4113-bc0c-db3220ed82bd",
   "metadata": {},
   "outputs": [
    {
     "name": "stdout",
     "output_type": "stream",
     "text": [
      "Blue water footprint\n"
     ]
    }
   ],
   "source": [
    "Blue = {}\n",
    "print('Blue water footprint')\n",
    "# set the computation code \n",
    "for i in containers.keys():\n",
    "    # print('---')\n",
    "    # print(i)\n",
    "    # print('---')\n",
    "    for m in containers.get(i):\n",
    "        \"\"\" interate over the dic and return the TIV for each of the years\"\"\"\n",
    "        np.seterr(divide='ignore', invalid='ignore')\n",
    "        xout = np.empty((4915,1))\n",
    "        np.add(np.add.reduce(np.array(containers.get(i).get('T')), axis =1)[:, np.newaxis], np.add.reduce(np.array(containers.get(i).get('FD')), axis =1)[:, np.newaxis], out = xout)\n",
    "        # compute direct intensity vector (f) \n",
    "        f = np.zeros_like(xout)\n",
    "        np.divide(np.array(containers.get(i).get('Q'))[2500,:][:, np.newaxis], xout, out=f, where= xout != 0)\n",
    "        # comput technical coefficient matrix \n",
    "        A = np.empty((4915, 4915))\n",
    "        np.divide(containers.get(i).get('T'), xout, out = A)\n",
    "        A = np.array(pd.DataFrame(A).fillna(0))\n",
    "        # creating identity matrix \n",
    "        I = np.eye(4915)\n",
    "        # compute the Wassily Leontief inverse \n",
    "        L = np.linalg.inv((I - A)) \n",
    "        # compute the Total intesnity verctor \n",
    "        F = L.dot(f)\n",
    "        Blue[i.split('_')[1]] = F"
   ]
  },
  {
   "cell_type": "code",
   "execution_count": 77,
   "id": "f890a126-3607-4d06-aeb8-51087bbc8303",
   "metadata": {},
   "outputs": [
    {
     "name": "stdout",
     "output_type": "stream",
     "text": [
      "Grey water footprint\n",
      "---\n",
      "Eora26_2009_bp\n",
      "---\n",
      "---\n",
      "Eora26_2010_bp\n",
      "---\n",
      "---\n",
      "Eora26_2011_bp\n",
      "---\n",
      "---\n",
      "Eora26_2012_bp\n",
      "---\n",
      "---\n",
      "Eora26_2013_bp\n",
      "---\n",
      "---\n",
      "Eora26_2014_bp\n",
      "---\n",
      "---\n",
      "Eora26_2015_bp\n",
      "---\n"
     ]
    }
   ],
   "source": [
    "Grey = {}\n",
    "# set the computation code \n",
    "print('Grey water footprint')\n",
    "for i in containers.keys():\n",
    "    print('---')\n",
    "    print(i)\n",
    "    print('---')\n",
    "    for m in containers.get(i):\n",
    "        \"\"\" interate over the dic and return the TIV for each of the years\"\"\"\n",
    "        np.seterr(divide='ignore', invalid='ignore')\n",
    "        xout = np.empty((4915,1))\n",
    "        np.add(np.add.reduce(np.array(containers.get(i).get('T')), axis =1)[:, np.newaxis], np.add.reduce(np.array(containers.get(i).get('FD')), axis =1)[:, np.newaxis], out = xout)\n",
    "        # compute direct intensity vector (f) \n",
    "        f = np.zeros_like(xout)\n",
    "        np.divide(np.array(containers.get(i).get('Q'))[2501,:][:, np.newaxis], xout, out=f, where= xout != 0)\n",
    "        # comput technical coefficient matrix \n",
    "        A = np.empty((4915, 4915))\n",
    "        np.divide(containers.get(i).get('T'), xout, out = A)\n",
    "        A = np.array(pd.DataFrame(A).fillna(0))\n",
    "        # creating identity matrix \n",
    "        I = np.eye(4915)\n",
    "        # compute the Wassily Leontief inverse \n",
    "        L = np.linalg.inv((I - A)) \n",
    "        # compute the Total intesnity verctor \n",
    "        F = L.dot(f)\n",
    "        Grey[i.split('_')[1]] = F"
   ]
  },
  {
   "cell_type": "code",
   "execution_count": 78,
   "id": "f631ce8a-3306-404e-aa3b-45e837f300f6",
   "metadata": {},
   "outputs": [
    {
     "data": {
      "text/html": [
       "<div>\n",
       "<style scoped>\n",
       "    .dataframe tbody tr th:only-of-type {\n",
       "        vertical-align: middle;\n",
       "    }\n",
       "\n",
       "    .dataframe tbody tr th {\n",
       "        vertical-align: top;\n",
       "    }\n",
       "\n",
       "    .dataframe thead th {\n",
       "        text-align: right;\n",
       "    }\n",
       "</style>\n",
       "<table border=\"1\" class=\"dataframe\">\n",
       "  <thead>\n",
       "    <tr style=\"text-align: right;\">\n",
       "      <th></th>\n",
       "      <th>country</th>\n",
       "      <th>iso3</th>\n",
       "      <th>industries</th>\n",
       "      <th>sector</th>\n",
       "    </tr>\n",
       "  </thead>\n",
       "  <tbody>\n",
       "    <tr>\n",
       "      <th>0</th>\n",
       "      <td>Afghanistan</td>\n",
       "      <td>AFG</td>\n",
       "      <td>Industries</td>\n",
       "      <td>Agriculture</td>\n",
       "    </tr>\n",
       "    <tr>\n",
       "      <th>1</th>\n",
       "      <td>Afghanistan</td>\n",
       "      <td>AFG</td>\n",
       "      <td>Industries</td>\n",
       "      <td>Fishing</td>\n",
       "    </tr>\n",
       "    <tr>\n",
       "      <th>2</th>\n",
       "      <td>Afghanistan</td>\n",
       "      <td>AFG</td>\n",
       "      <td>Industries</td>\n",
       "      <td>Mining and Quarrying</td>\n",
       "    </tr>\n",
       "  </tbody>\n",
       "</table>\n",
       "</div>"
      ],
      "text/plain": [
       "       country iso3  industries                sector\n",
       "0  Afghanistan  AFG  Industries           Agriculture\n",
       "1  Afghanistan  AFG  Industries               Fishing\n",
       "2  Afghanistan  AFG  Industries  Mining and Quarrying"
      ]
     },
     "execution_count": 78,
     "metadata": {},
     "output_type": "execute_result"
    }
   ],
   "source": [
    "## import the index of countries & sectors \n",
    "index = pd.read_csv('../Data/Eora/Eora_BP/Eora26_2009_bp/labels_T.txt', delimiter = '\\t', header = None).iloc[:,:-1]\n",
    "index.columns = ['country', 'iso3', 'industries', 'sector']\n",
    "index.head(3)"
   ]
  },
  {
   "cell_type": "code",
   "execution_count": 79,
   "id": "d98540b0-01e1-4471-aaca-87b76928b32c",
   "metadata": {},
   "outputs": [],
   "source": [
    "## add the countries and the sectors names \n",
    "for i in Blue.keys():\n",
    "    Blue[i] = pd.concat([index, pd.DataFrame(Blue.get(i))], axis = 1)\n",
    "    \n",
    "for i in Grey.keys():\n",
    "    Grey[i] = pd.concat([index, pd.DataFrame(Grey.get(i))], axis = 1)   "
   ]
  },
  {
   "cell_type": "code",
   "execution_count": 80,
   "id": "290971a7-1faf-4ca2-998d-8a954be6f026",
   "metadata": {},
   "outputs": [
    {
     "data": {
      "text/html": [
       "<div>\n",
       "<style scoped>\n",
       "    .dataframe tbody tr th:only-of-type {\n",
       "        vertical-align: middle;\n",
       "    }\n",
       "\n",
       "    .dataframe tbody tr th {\n",
       "        vertical-align: top;\n",
       "    }\n",
       "\n",
       "    .dataframe thead th {\n",
       "        text-align: right;\n",
       "    }\n",
       "</style>\n",
       "<table border=\"1\" class=\"dataframe\">\n",
       "  <thead>\n",
       "    <tr style=\"text-align: right;\">\n",
       "      <th></th>\n",
       "      <th>country</th>\n",
       "      <th>Eora_country</th>\n",
       "      <th>Year</th>\n",
       "    </tr>\n",
       "  </thead>\n",
       "  <tbody>\n",
       "    <tr>\n",
       "      <th>0</th>\n",
       "      <td>Algeria</td>\n",
       "      <td>DZA</td>\n",
       "      <td>2011</td>\n",
       "    </tr>\n",
       "    <tr>\n",
       "      <th>1</th>\n",
       "      <td>Tunisia</td>\n",
       "      <td>TUN</td>\n",
       "      <td>2010</td>\n",
       "    </tr>\n",
       "    <tr>\n",
       "      <th>2</th>\n",
       "      <td>Morocco</td>\n",
       "      <td>MAR</td>\n",
       "      <td>2014</td>\n",
       "    </tr>\n",
       "  </tbody>\n",
       "</table>\n",
       "</div>"
      ],
      "text/plain": [
       "   country Eora_country  Year\n",
       "0  Algeria          DZA  2011\n",
       "1  Tunisia          TUN  2010\n",
       "2  Morocco          MAR  2014"
      ]
     },
     "execution_count": 80,
     "metadata": {},
     "output_type": "execute_result"
    }
   ],
   "source": [
    "# get the TIV for each country & year \n",
    "info = pd.read_csv('../infos.csv')\n",
    "info.head(3)"
   ]
  },
  {
   "cell_type": "code",
   "execution_count": 81,
   "id": "150e9dd4-b8bd-4217-849a-7f1e8d0d5cda",
   "metadata": {},
   "outputs": [],
   "source": [
    "## get the data for each year & country \n",
    "Bleu_F = {}\n",
    "for i in info['Eora_country'].unique():\n",
    "    Year = info[info['Eora_country'] == i].Year.item()\n",
    "    Bleu_F[i] = Blue.get(f\"{Year}\").query(f'iso3 == \"{i}\"')[['iso3', 'sector', 0]]\n",
    "    \n",
    "Grey_F = {}\n",
    "for i in info['Eora_country'].unique():\n",
    "    Year = info[info['Eora_country'] == i].Year.item()\n",
    "    Grey_F[i] = Grey.get(f\"{Year}\").query(f'iso3 == \"{i}\"')[['iso3', 'sector', 0]]"
   ]
  },
  {
   "cell_type": "code",
   "execution_count": 82,
   "id": "3d365206-5b02-4474-a713-1ca44b970d0b",
   "metadata": {},
   "outputs": [],
   "source": [
    "## get the footprints \n",
    "\n",
    "Bleu_foot = {}\n",
    "\n",
    "for name in Bleu_F.keys(): \n",
    "    city = np.array(y[y['Country iso3'] == f'{name}'].iloc[:,2:].T)\n",
    "    TIF = np.array(Bleu_F.get(f'{name}')[[0]])\n",
    "    com = pd.DataFrame(city * TIF)\n",
    "    com.columns = y[y['Country iso3'] == f'{name}'].iloc[:,2:].T.columns   \n",
    "    Bleu_foot[name] = com\n",
    "    \n",
    "Grey_foot = {}\n",
    "\n",
    "for name in Grey_F.keys(): \n",
    "    city = np.array(y[y['Country iso3'] == f'{name}'].iloc[:,2:].T)\n",
    "    TIF = np.array(Grey_F.get(f'{name}')[[0]])\n",
    "    com = pd.DataFrame(city * TIF)\n",
    "    com.columns = y[y['Country iso3'] == f'{name}'].iloc[:,2:].T.columns   \n",
    "    Grey_foot[name] = com"
   ]
  },
  {
   "cell_type": "code",
   "execution_count": 83,
   "id": "52f751b1-5ca4-4aa4-9c2e-0b080dc39cf9",
   "metadata": {},
   "outputs": [],
   "source": [
    "## take the dfs \n",
    "Bleu = pd.concat([Bleu_foot.get(i) for i in Bleu_foot.keys()], axis =1)\n",
    "Grey = pd.concat([Grey_foot.get(i) for i in Grey_foot.keys()], axis =1)"
   ]
  },
  {
   "cell_type": "code",
   "execution_count": 84,
   "id": "09970c0d-2450-4b29-b278-7922dd3c1534",
   "metadata": {},
   "outputs": [],
   "source": [
    "Bleu = pd.concat([sectors, Bleu * 1000], axis =1)\n",
    "Grey = pd.concat([sectors, Grey * 1000], axis =1) "
   ]
  },
  {
   "cell_type": "code",
   "execution_count": 85,
   "id": "b0135950-132b-4136-8c65-3fed78b6574b",
   "metadata": {},
   "outputs": [],
   "source": [
    "Bleu = Bleu.melt(id_vars = ['Sector', 'Industry_category'], var_name = 'City')\n",
    "Bleu['Type'] = 'Bleu water'\n",
    "Grey = Grey.melt(id_vars = ['Sector', 'Industry_category'], var_name = 'City')\n",
    "Grey['Type'] = 'Grey water'"
   ]
  },
  {
   "cell_type": "code",
   "execution_count": 86,
   "id": "184ed9aa-8331-464a-8786-f59e8ad837d0",
   "metadata": {},
   "outputs": [],
   "source": [
    "tot = pd.concat([Bleu, Grey], axis = 0)"
   ]
  },
  {
   "cell_type": "markdown",
   "id": "461c1469-16cf-416b-b04f-1326af225b54",
   "metadata": {},
   "source": [
    "## EDA"
   ]
  },
  {
   "cell_type": "code",
   "execution_count": 87,
   "id": "fd5ec605-ef57-4567-86a5-49164f0d6eda",
   "metadata": {},
   "outputs": [
    {
     "data": {
      "text/html": [
       "<div>\n",
       "<style scoped>\n",
       "    .dataframe tbody tr th:only-of-type {\n",
       "        vertical-align: middle;\n",
       "    }\n",
       "\n",
       "    .dataframe tbody tr th {\n",
       "        vertical-align: top;\n",
       "    }\n",
       "\n",
       "    .dataframe thead th {\n",
       "        text-align: right;\n",
       "    }\n",
       "</style>\n",
       "<table border=\"1\" class=\"dataframe\">\n",
       "  <thead>\n",
       "    <tr style=\"text-align: right;\">\n",
       "      <th></th>\n",
       "      <th>Sector</th>\n",
       "      <th>Industry_category</th>\n",
       "      <th>City</th>\n",
       "      <th>value</th>\n",
       "      <th>Type</th>\n",
       "    </tr>\n",
       "  </thead>\n",
       "  <tbody>\n",
       "    <tr>\n",
       "      <th>0</th>\n",
       "      <td>Food</td>\n",
       "      <td>Primary industry</td>\n",
       "      <td>Algiers</td>\n",
       "      <td>0.0</td>\n",
       "      <td>Bleu water</td>\n",
       "    </tr>\n",
       "    <tr>\n",
       "      <th>1</th>\n",
       "      <td>Food</td>\n",
       "      <td>Primary industry</td>\n",
       "      <td>Algiers</td>\n",
       "      <td>0.0</td>\n",
       "      <td>Bleu water</td>\n",
       "    </tr>\n",
       "    <tr>\n",
       "      <th>2</th>\n",
       "      <td>Goods</td>\n",
       "      <td>Primary industry</td>\n",
       "      <td>Algiers</td>\n",
       "      <td>0.0</td>\n",
       "      <td>Bleu water</td>\n",
       "    </tr>\n",
       "  </tbody>\n",
       "</table>\n",
       "</div>"
      ],
      "text/plain": [
       "  Sector Industry_category     City  value        Type\n",
       "0   Food  Primary industry  Algiers    0.0  Bleu water\n",
       "1   Food  Primary industry  Algiers    0.0  Bleu water\n",
       "2  Goods  Primary industry  Algiers    0.0  Bleu water"
      ]
     },
     "execution_count": 87,
     "metadata": {},
     "output_type": "execute_result"
    }
   ],
   "source": [
    "tot.head(3)"
   ]
  },
  {
   "cell_type": "code",
   "execution_count": 88,
   "id": "10a84950-d9da-4349-ba71-c90e89c0dcda",
   "metadata": {},
   "outputs": [
    {
     "data": {
      "image/png": "[encoded data removed]",
      "text/plain": [
       "<Figure size 432x288 with 1 Axes>"
      ]
     },
     "metadata": {
      "needs_background": "light"
     },
     "output_type": "display_data"
    }
   ],
   "source": [
    "sns.barplot(x = 'value', y = 'Industry_category', data = tot.query('Type == \"Bleu water\"'));"
   ]
  },
  {
   "cell_type": "code",
   "execution_count": 89,
   "id": "941ebf52-dc4f-46aa-b04d-b3b9354d67fa",
   "metadata": {},
   "outputs": [
    {
     "data": {
      "image/png": "[encoded data removed]",
      "text/plain": [
       "<Figure size 432x288 with 1 Axes>"
      ]
     },
     "metadata": {
      "needs_background": "light"
     },
     "output_type": "display_data"
    }
   ],
   "source": [
    "sns.barplot(x = 'value', y = 'Industry_category', data = tot.query('Type == \"Grey water\"'));"
   ]
  },
  {
   "cell_type": "code",
   "execution_count": 90,
   "id": "6882f12f-4764-4069-b707-5c5a171c2ac4",
   "metadata": {},
   "outputs": [
    {
     "data": {
      "text/html": [
       "<div>\n",
       "<style scoped>\n",
       "    .dataframe tbody tr th:only-of-type {\n",
       "        vertical-align: middle;\n",
       "    }\n",
       "\n",
       "    .dataframe tbody tr th {\n",
       "        vertical-align: top;\n",
       "    }\n",
       "\n",
       "    .dataframe thead th {\n",
       "        text-align: right;\n",
       "    }\n",
       "</style>\n",
       "<table border=\"1\" class=\"dataframe\">\n",
       "  <thead>\n",
       "    <tr style=\"text-align: right;\">\n",
       "      <th></th>\n",
       "      <th>Type</th>\n",
       "      <th>Industry_category</th>\n",
       "      <th>value</th>\n",
       "    </tr>\n",
       "  </thead>\n",
       "  <tbody>\n",
       "    <tr>\n",
       "      <th>0</th>\n",
       "      <td>Bleu water</td>\n",
       "      <td>Heavey manufacturing</td>\n",
       "      <td>2.375992</td>\n",
       "    </tr>\n",
       "    <tr>\n",
       "      <th>1</th>\n",
       "      <td>Bleu water</td>\n",
       "      <td>Light manufacturing</td>\n",
       "      <td>16.288844</td>\n",
       "    </tr>\n",
       "    <tr>\n",
       "      <th>2</th>\n",
       "      <td>Bleu water</td>\n",
       "      <td>Primary industry</td>\n",
       "      <td>2.044349</td>\n",
       "    </tr>\n",
       "    <tr>\n",
       "      <th>3</th>\n",
       "      <td>Bleu water</td>\n",
       "      <td>Tertiary industry</td>\n",
       "      <td>0.611268</td>\n",
       "    </tr>\n",
       "    <tr>\n",
       "      <th>4</th>\n",
       "      <td>Grey water</td>\n",
       "      <td>Heavey manufacturing</td>\n",
       "      <td>4.162414</td>\n",
       "    </tr>\n",
       "    <tr>\n",
       "      <th>5</th>\n",
       "      <td>Grey water</td>\n",
       "      <td>Light manufacturing</td>\n",
       "      <td>14.461421</td>\n",
       "    </tr>\n",
       "    <tr>\n",
       "      <th>6</th>\n",
       "      <td>Grey water</td>\n",
       "      <td>Primary industry</td>\n",
       "      <td>2.710373</td>\n",
       "    </tr>\n",
       "    <tr>\n",
       "      <th>7</th>\n",
       "      <td>Grey water</td>\n",
       "      <td>Tertiary industry</td>\n",
       "      <td>1.437882</td>\n",
       "    </tr>\n",
       "  </tbody>\n",
       "</table>\n",
       "</div>"
      ],
      "text/plain": [
       "         Type     Industry_category      value\n",
       "0  Bleu water  Heavey manufacturing   2.375992\n",
       "1  Bleu water   Light manufacturing  16.288844\n",
       "2  Bleu water      Primary industry   2.044349\n",
       "3  Bleu water     Tertiary industry   0.611268\n",
       "4  Grey water  Heavey manufacturing   4.162414\n",
       "5  Grey water   Light manufacturing  14.461421\n",
       "6  Grey water      Primary industry   2.710373\n",
       "7  Grey water     Tertiary industry   1.437882"
      ]
     },
     "execution_count": 90,
     "metadata": {},
     "output_type": "execute_result"
    }
   ],
   "source": [
    "tot.groupby(['Type', 'Industry_category'])['value'].mean().to_frame().reset_index()"
   ]
  },
  {
   "cell_type": "code",
   "execution_count": 91,
   "id": "82402a3e-61a7-4a38-bf5e-b5f97560131d",
   "metadata": {},
   "outputs": [
    {
     "data": {
      "image/png": "[encoded data removed]",
      "text/plain": [
       "<Figure size 640x480 with 1 Axes>"
      ]
     },
     "metadata": {},
     "output_type": "display_data"
    },
    {
     "data": {
      "text/plain": [
       "<ggplot: (126707237449)>"
      ]
     },
     "execution_count": 91,
     "metadata": {},
     "output_type": "execute_result"
    }
   ],
   "source": [
    "(ggplot(tot) + geom_violin(aes(x = 'Sector', y = 'value')))"
   ]
  },
  {
   "cell_type": "code",
   "execution_count": 92,
   "id": "a8a497ae-27f6-4712-a142-a3d2952624f1",
   "metadata": {},
   "outputs": [
    {
     "data": {
      "image/png": "[encoded data removed]",
      "text/plain": [
       "<Figure size 640x480 with 1 Axes>"
      ]
     },
     "metadata": {},
     "output_type": "display_data"
    },
    {
     "data": {
      "text/plain": [
       "<ggplot: (126709819682)>"
      ]
     },
     "execution_count": 92,
     "metadata": {},
     "output_type": "execute_result"
    }
   ],
   "source": [
    "(ggplot(tot.groupby(['Type', 'Sector'])['value'].mean().to_frame().reset_index(), aes('Type', 'value', fill = 'Sector'))\n",
    "    + theme_bw(base_size = 9)\n",
    "    + geom_bar(stat = 'identity', position = 'fill')\n",
    "    + coord_flip()\n",
    ")"
   ]
  },
  {
   "cell_type": "code",
   "execution_count": 93,
   "id": "68f741c5-383c-4521-bbfb-9b5ce0ab6577",
   "metadata": {},
   "outputs": [
    {
     "data": {
      "image/png": "[encoded data removed]",
      "text/plain": [
       "<Figure size 640x480 with 1 Axes>"
      ]
     },
     "metadata": {},
     "output_type": "display_data"
    },
    {
     "data": {
      "text/plain": [
       "<ggplot: (126707458567)>"
      ]
     },
     "execution_count": 93,
     "metadata": {},
     "output_type": "execute_result"
    }
   ],
   "source": [
    "(ggplot(tot.groupby(['Type', 'Industry_category'])['value'].mean().to_frame().reset_index(), aes('Type', 'value', fill = 'Industry_category'))\n",
    "    + theme_bw(base_size = 9)\n",
    "    + geom_bar(stat = 'identity', position = 'fill')\n",
    "    + coord_flip()\n",
    ")"
   ]
  },
  {
   "cell_type": "code",
   "execution_count": 147,
   "id": "52d9e70a-72e3-472f-bae3-fd2acb93a76a",
   "metadata": {},
   "outputs": [
    {
     "name": "stderr",
     "output_type": "stream",
     "text": [
      "C:\\Users\\mhachaichi\\Miniconda3\\lib\\site-packages\\mizani\\palettes.py:397: UserWarning: Warning message:Brewer palette Set2 has a maximum of 8 colors Returning the palette you asked for with that many colors\n",
      "C:\\Users\\mhachaichi\\Miniconda3\\lib\\site-packages\\mizani\\palettes.py:397: UserWarning: Warning message:Brewer palette Set2 has a maximum of 8 colors Returning the palette you asked for with that many colors\n"
     ]
    },
    {
     "data": {
      "image/png": "[encoded data removed]",
      "text/plain": [
       "<Figure size 640x480 with 2 Axes>"
      ]
     },
     "metadata": {},
     "output_type": "display_data"
    },
    {
     "data": {
      "text/plain": [
       "<ggplot: (126708445001)>"
      ]
     },
     "execution_count": 147,
     "metadata": {},
     "output_type": "execute_result"
    }
   ],
   "source": [
    "(ggplot(tot.groupby(['Sector', 'Type', 'Industry_category'])['value'].mean().to_frame().reset_index(), aes('Industry_category', 'value', fill = 'Sector'))\n",
    "    + theme_bw(base_size = 9)\n",
    "    + geom_bar(stat = 'identity', position = 'fill')\n",
    "    + coord_flip()\n",
    "    + facet_wrap('~Type')\n",
    "    + scale_fill_brewer(type = 'qual', palette = 7)\n",
    ")"
   ]
  }
 ],
 "metadata": {
  "kernelspec": {
   "display_name": "Python 3 (ipykernel)",
   "language": "python",
   "name": "python3"
  },
  "language_info": {
   "codemirror_mode": {
    "name": "ipython",
    "version": 3
   },
   "file_extension": ".py",
   "mimetype": "text/x-python",
   "name": "python",
   "nbconvert_exporter": "python",
   "pygments_lexer": "ipython3",
   "version": "3.9.9"
  }
 },
 "nbformat": 4,
 "nbformat_minor": 5
}
